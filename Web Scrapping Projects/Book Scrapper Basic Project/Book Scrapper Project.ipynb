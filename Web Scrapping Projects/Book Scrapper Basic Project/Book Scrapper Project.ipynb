{
 "cells": [
  {
   "cell_type": "code",
   "execution_count": 26,
   "id": "f6e6b2d1",
   "metadata": {},
   "outputs": [],
   "source": [
    "import requests\n",
    "from bs4 import BeautifulSoup"
   ]
  },
  {
   "cell_type": "code",
   "execution_count": 27,
   "id": "c7123a8a",
   "metadata": {},
   "outputs": [],
   "source": [
    "linkk='http://books.toscrape.com'"
   ]
  },
  {
   "cell_type": "code",
   "execution_count": null,
   "id": "fb42e0d6",
   "metadata": {},
   "outputs": [],
   "source": []
  },
  {
   "cell_type": "code",
   "execution_count": 28,
   "id": "1000553f",
   "metadata": {},
   "outputs": [
    {
     "data": {
      "text/plain": [
       "<Response [200]>"
      ]
     },
     "execution_count": 28,
     "metadata": {},
     "output_type": "execute_result"
    }
   ],
   "source": [
    "requests.get(linkk)"
   ]
  },
  {
   "cell_type": "code",
   "execution_count": 29,
   "id": "e84d5618",
   "metadata": {},
   "outputs": [],
   "source": [
    "res=requests.get(linkk)\n",
    "soup=BeautifulSoup(res.text,'html.parser')"
   ]
  },
  {
   "cell_type": "code",
   "execution_count": null,
   "id": "61399c4b",
   "metadata": {},
   "outputs": [],
   "source": []
  },
  {
   "cell_type": "code",
   "execution_count": 69,
   "id": "fd6cf5d9",
   "metadata": {},
   "outputs": [],
   "source": [
    "html=res.text"
   ]
  },
  {
   "cell_type": "code",
   "execution_count": 70,
   "id": "49599580",
   "metadata": {},
   "outputs": [],
   "source": [
    "f=open('Books.html','w')\n",
    "f.write(html)\n",
    "f.close()"
   ]
  },
  {
   "cell_type": "markdown",
   "id": "dd0db447",
   "metadata": {},
   "source": [
    "##### <font color='red'>Keep checking out the inspect part of the webpage along with the code</font>"
   ]
  },
  {
   "cell_type": "code",
   "execution_count": 30,
   "id": "94a9db1d",
   "metadata": {},
   "outputs": [
    {
     "data": {
      "text/plain": [
       "20"
      ]
     },
     "execution_count": 30,
     "metadata": {},
     "output_type": "execute_result"
    }
   ],
   "source": [
    "len(soup.find_all('li',class_='col-xs-6 col-sm-4 col-md-3 col-lg-3'))"
   ]
  },
  {
   "cell_type": "markdown",
   "id": "9ce0c048",
   "metadata": {},
   "source": [
    "- So we are having 20 books in the webpage"
   ]
  },
  {
   "cell_type": "code",
   "execution_count": null,
   "id": "93d5b656",
   "metadata": {},
   "outputs": [],
   "source": []
  },
  {
   "cell_type": "markdown",
   "id": "db32d1b8",
   "metadata": {},
   "source": [
    "###  <center><font color='clue'> To get the link, Title and sorce of the image of the book </font></center>"
   ]
  },
  {
   "cell_type": "code",
   "execution_count": null,
   "id": "23c5d7c0",
   "metadata": {},
   "outputs": [],
   "source": []
  },
  {
   "cell_type": "code",
   "execution_count": 41,
   "id": "fda7d3fc",
   "metadata": {},
   "outputs": [
    {
     "name": "stdout",
     "output_type": "stream",
     "text": [
      "----------------------------------------------------------------------\n",
      "catalogue/its-only-the-himalayas_981/index.html || A Light in the Attic || media/cache/27/a5/27a53d0bb95bdd88288eaf66c9230d7e.jpg || Three || £51.77 || In stock\n",
      "----------------------------------------------------------------------\n",
      "catalogue/its-only-the-himalayas_981/index.html || Tipping the Velvet || media/cache/27/a5/27a53d0bb95bdd88288eaf66c9230d7e.jpg || One || £53.74 || In stock\n",
      "----------------------------------------------------------------------\n",
      "catalogue/its-only-the-himalayas_981/index.html || Soumission || media/cache/27/a5/27a53d0bb95bdd88288eaf66c9230d7e.jpg || One || £50.10 || In stock\n",
      "----------------------------------------------------------------------\n",
      "catalogue/its-only-the-himalayas_981/index.html || Sharp Objects || media/cache/27/a5/27a53d0bb95bdd88288eaf66c9230d7e.jpg || Four || £47.82 || In stock\n",
      "----------------------------------------------------------------------\n",
      "catalogue/its-only-the-himalayas_981/index.html || Sapiens: A Brief History of Humankind || media/cache/27/a5/27a53d0bb95bdd88288eaf66c9230d7e.jpg || Five || £54.23 || In stock\n",
      "----------------------------------------------------------------------\n",
      "catalogue/its-only-the-himalayas_981/index.html || The Requiem Red || media/cache/27/a5/27a53d0bb95bdd88288eaf66c9230d7e.jpg || One || £22.65 || In stock\n",
      "----------------------------------------------------------------------\n",
      "catalogue/its-only-the-himalayas_981/index.html || The Dirty Little Secrets of Getting Your Dream Job || media/cache/27/a5/27a53d0bb95bdd88288eaf66c9230d7e.jpg || Four || £33.34 || In stock\n",
      "----------------------------------------------------------------------\n",
      "catalogue/its-only-the-himalayas_981/index.html || The Coming Woman: A Novel Based on the Life of the Infamous Feminist, Victoria Woodhull || media/cache/27/a5/27a53d0bb95bdd88288eaf66c9230d7e.jpg || Three || £17.93 || In stock\n",
      "----------------------------------------------------------------------\n",
      "catalogue/its-only-the-himalayas_981/index.html || The Boys in the Boat: Nine Americans and Their Epic Quest for Gold at the 1936 Berlin Olympics || media/cache/27/a5/27a53d0bb95bdd88288eaf66c9230d7e.jpg || Four || £22.60 || In stock\n",
      "----------------------------------------------------------------------\n",
      "catalogue/its-only-the-himalayas_981/index.html || The Black Maria || media/cache/27/a5/27a53d0bb95bdd88288eaf66c9230d7e.jpg || One || £52.15 || In stock\n",
      "----------------------------------------------------------------------\n",
      "catalogue/its-only-the-himalayas_981/index.html || Starving Hearts (Triangular Trade Trilogy, #1) || media/cache/27/a5/27a53d0bb95bdd88288eaf66c9230d7e.jpg || Two || £13.99 || In stock\n",
      "----------------------------------------------------------------------\n",
      "catalogue/its-only-the-himalayas_981/index.html || Shakespeare's Sonnets || media/cache/27/a5/27a53d0bb95bdd88288eaf66c9230d7e.jpg || Four || £20.66 || In stock\n",
      "----------------------------------------------------------------------\n",
      "catalogue/its-only-the-himalayas_981/index.html || Set Me Free || media/cache/27/a5/27a53d0bb95bdd88288eaf66c9230d7e.jpg || Five || £17.46 || In stock\n",
      "----------------------------------------------------------------------\n",
      "catalogue/its-only-the-himalayas_981/index.html || Scott Pilgrim's Precious Little Life (Scott Pilgrim #1) || media/cache/27/a5/27a53d0bb95bdd88288eaf66c9230d7e.jpg || Five || £52.29 || In stock\n",
      "----------------------------------------------------------------------\n",
      "catalogue/its-only-the-himalayas_981/index.html || Rip it Up and Start Again || media/cache/27/a5/27a53d0bb95bdd88288eaf66c9230d7e.jpg || Five || £35.02 || In stock\n",
      "----------------------------------------------------------------------\n",
      "catalogue/its-only-the-himalayas_981/index.html || Our Band Could Be Your Life: Scenes from the American Indie Underground, 1981-1991 || media/cache/27/a5/27a53d0bb95bdd88288eaf66c9230d7e.jpg || Three || £57.25 || In stock\n",
      "----------------------------------------------------------------------\n",
      "catalogue/its-only-the-himalayas_981/index.html || Olio || media/cache/27/a5/27a53d0bb95bdd88288eaf66c9230d7e.jpg || One || £23.88 || In stock\n",
      "----------------------------------------------------------------------\n",
      "catalogue/its-only-the-himalayas_981/index.html || Mesaerion: The Best Science Fiction Stories 1800-1849 || media/cache/27/a5/27a53d0bb95bdd88288eaf66c9230d7e.jpg || One || £37.59 || In stock\n",
      "----------------------------------------------------------------------\n",
      "catalogue/its-only-the-himalayas_981/index.html || Libertarianism for Beginners || media/cache/27/a5/27a53d0bb95bdd88288eaf66c9230d7e.jpg || Two || £51.33 || In stock\n",
      "----------------------------------------------------------------------\n",
      "catalogue/its-only-the-himalayas_981/index.html || It's Only the Himalayas || media/cache/27/a5/27a53d0bb95bdd88288eaf66c9230d7e.jpg || Two || £45.17 || In stock\n"
     ]
    }
   ],
   "source": [
    "#Check below sp to udnerstand the tags to search from\n",
    "for sp in soup.find_all('li',class_='col-xs-6 col-sm-4 col-md-3 col-lg-3'):\n",
    "    print('-'*70)\n",
    "    \n",
    "    book_link    =sp.find_all('a')[-1].get('href')\n",
    "    title        =sp.find_all('a')[-1].get('title')\n",
    "    img_link     =sp.find('img').get('src')\n",
    "    rating       =sp.find('p').get('class')[-1]\n",
    "    price        =sp.find('p',class_='price_color').text[1:]\n",
    "    availability =sp.find('p',class_='instock availability').text.strip()\n",
    "    \n",
    "    print(link,'||',title,'||',img,'||',rating,'||',price,'||',availability)"
   ]
  },
  {
   "cell_type": "code",
   "execution_count": null,
   "id": "59df7661",
   "metadata": {},
   "outputs": [],
   "source": []
  },
  {
   "cell_type": "markdown",
   "id": "6d146ae0",
   "metadata": {},
   "source": [
    "###### To find which `p` or `div` or `class` the things belongs from check from the `sp` variable"
   ]
  },
  {
   "cell_type": "code",
   "execution_count": 39,
   "id": "d9b6578e",
   "metadata": {},
   "outputs": [
    {
     "name": "stdout",
     "output_type": "stream",
     "text": [
      "<li class=\"col-xs-6 col-sm-4 col-md-3 col-lg-3\">\n",
      "<article class=\"product_pod\">\n",
      "<div class=\"image_container\">\n",
      "<a href=\"catalogue/its-only-the-himalayas_981/index.html\"><img alt=\"It's Only the Himalayas\" class=\"thumbnail\" src=\"media/cache/27/a5/27a53d0bb95bdd88288eaf66c9230d7e.jpg\"/></a>\n",
      "</div>\n",
      "<p class=\"star-rating Two\">\n",
      "<i class=\"icon-star\"></i>\n",
      "<i class=\"icon-star\"></i>\n",
      "<i class=\"icon-star\"></i>\n",
      "<i class=\"icon-star\"></i>\n",
      "<i class=\"icon-star\"></i>\n",
      "</p>\n",
      "<h3><a href=\"catalogue/its-only-the-himalayas_981/index.html\" title=\"It's Only the Himalayas\">It's Only the Himalayas</a></h3>\n",
      "<div class=\"product_price\">\n",
      "<p class=\"price_color\">Â£45.17</p>\n",
      "<p class=\"instock availability\">\n",
      "<i class=\"icon-ok\"></i>\n",
      "    \n",
      "        In stock\n",
      "    \n",
      "</p>\n",
      "<form>\n",
      "<button class=\"btn btn-primary btn-block\" data-loading-text=\"Adding...\" type=\"submit\">Add to basket</button>\n",
      "</form>\n",
      "</div>\n",
      "</article>\n",
      "</li>\n"
     ]
    }
   ],
   "source": [
    "print(sp)"
   ]
  },
  {
   "cell_type": "code",
   "execution_count": null,
   "id": "d2f97602",
   "metadata": {},
   "outputs": [],
   "source": []
  },
  {
   "cell_type": "code",
   "execution_count": 46,
   "id": "71395642",
   "metadata": {},
   "outputs": [],
   "source": [
    "data=[]\n",
    "for sp in soup.find_all('li',class_='col-xs-6 col-sm-4 col-md-3 col-lg-3'):\n",
    "   # print('-'*70)\n",
    "    \n",
    "    book_link    ='http://books.toscrape.com/'+sp.find_all('a')[-1].get('href')\n",
    "    title        =sp.find_all('a')[-1].get('title')\n",
    "    img_link     ='http://books.toscrape.com/'+sp.find('img').get('src')\n",
    "    rating       =sp.find('p').get('class')[-1]\n",
    "    price        =sp.find('p',class_='price_color').text[1:]\n",
    "    availability =sp.find('p',class_='instock availability').text.strip()\n",
    "    \n",
    "    data.append([title,rating,price,availability,book_link,img_link])\n",
    "   # print(link,'||',title,'||',img,'||',rating,'||',price,'||',availability)"
   ]
  },
  {
   "cell_type": "code",
   "execution_count": 48,
   "id": "f3cc17cf",
   "metadata": {},
   "outputs": [
    {
     "data": {
      "text/plain": [
       "['A Light in the Attic',\n",
       " 'Three',\n",
       " '£51.77',\n",
       " 'In stock',\n",
       " 'http://books.toscrape.com/catalogue/a-light-in-the-attic_1000/index.html',\n",
       " 'http://books.toscrape.com/media/cache/2c/da/2cdad67c44b002e7ead0cc35693c0e8b.jpg']"
      ]
     },
     "execution_count": 48,
     "metadata": {},
     "output_type": "execute_result"
    }
   ],
   "source": [
    "data[0]"
   ]
  },
  {
   "cell_type": "code",
   "execution_count": 51,
   "id": "75eec1d9",
   "metadata": {},
   "outputs": [],
   "source": [
    "import pandas as pd"
   ]
  },
  {
   "cell_type": "code",
   "execution_count": 54,
   "id": "fc88f855",
   "metadata": {},
   "outputs": [
    {
     "data": {
      "text/html": [
       "<div>\n",
       "<style scoped>\n",
       "    .dataframe tbody tr th:only-of-type {\n",
       "        vertical-align: middle;\n",
       "    }\n",
       "\n",
       "    .dataframe tbody tr th {\n",
       "        vertical-align: top;\n",
       "    }\n",
       "\n",
       "    .dataframe thead th {\n",
       "        text-align: right;\n",
       "    }\n",
       "</style>\n",
       "<table border=\"1\" class=\"dataframe\">\n",
       "  <thead>\n",
       "    <tr style=\"text-align: right;\">\n",
       "      <th></th>\n",
       "      <th>Title</th>\n",
       "      <th>Rating</th>\n",
       "      <th>Price</th>\n",
       "      <th>Stock</th>\n",
       "      <th>Book Link</th>\n",
       "      <th>Image Link</th>\n",
       "    </tr>\n",
       "  </thead>\n",
       "  <tbody>\n",
       "    <tr>\n",
       "      <th>0</th>\n",
       "      <td>A Light in the Attic</td>\n",
       "      <td>Three</td>\n",
       "      <td>£51.77</td>\n",
       "      <td>In stock</td>\n",
       "      <td>http://books.toscrape.com/catalogue/a-light-in...</td>\n",
       "      <td>http://books.toscrape.com/media/cache/2c/da/2c...</td>\n",
       "    </tr>\n",
       "    <tr>\n",
       "      <th>1</th>\n",
       "      <td>Tipping the Velvet</td>\n",
       "      <td>One</td>\n",
       "      <td>£53.74</td>\n",
       "      <td>In stock</td>\n",
       "      <td>http://books.toscrape.com/catalogue/tipping-th...</td>\n",
       "      <td>http://books.toscrape.com/media/cache/26/0c/26...</td>\n",
       "    </tr>\n",
       "    <tr>\n",
       "      <th>2</th>\n",
       "      <td>Soumission</td>\n",
       "      <td>One</td>\n",
       "      <td>£50.10</td>\n",
       "      <td>In stock</td>\n",
       "      <td>http://books.toscrape.com/catalogue/soumission...</td>\n",
       "      <td>http://books.toscrape.com/media/cache/3e/ef/3e...</td>\n",
       "    </tr>\n",
       "    <tr>\n",
       "      <th>3</th>\n",
       "      <td>Sharp Objects</td>\n",
       "      <td>Four</td>\n",
       "      <td>£47.82</td>\n",
       "      <td>In stock</td>\n",
       "      <td>http://books.toscrape.com/catalogue/sharp-obje...</td>\n",
       "      <td>http://books.toscrape.com/media/cache/32/51/32...</td>\n",
       "    </tr>\n",
       "    <tr>\n",
       "      <th>4</th>\n",
       "      <td>Sapiens: A Brief History of Humankind</td>\n",
       "      <td>Five</td>\n",
       "      <td>£54.23</td>\n",
       "      <td>In stock</td>\n",
       "      <td>http://books.toscrape.com/catalogue/sapiens-a-...</td>\n",
       "      <td>http://books.toscrape.com/media/cache/be/a5/be...</td>\n",
       "    </tr>\n",
       "    <tr>\n",
       "      <th>5</th>\n",
       "      <td>The Requiem Red</td>\n",
       "      <td>One</td>\n",
       "      <td>£22.65</td>\n",
       "      <td>In stock</td>\n",
       "      <td>http://books.toscrape.com/catalogue/the-requie...</td>\n",
       "      <td>http://books.toscrape.com/media/cache/68/33/68...</td>\n",
       "    </tr>\n",
       "    <tr>\n",
       "      <th>6</th>\n",
       "      <td>The Dirty Little Secrets of Getting Your Dream...</td>\n",
       "      <td>Four</td>\n",
       "      <td>£33.34</td>\n",
       "      <td>In stock</td>\n",
       "      <td>http://books.toscrape.com/catalogue/the-dirty-...</td>\n",
       "      <td>http://books.toscrape.com/media/cache/92/27/92...</td>\n",
       "    </tr>\n",
       "    <tr>\n",
       "      <th>7</th>\n",
       "      <td>The Coming Woman: A Novel Based on the Life of...</td>\n",
       "      <td>Three</td>\n",
       "      <td>£17.93</td>\n",
       "      <td>In stock</td>\n",
       "      <td>http://books.toscrape.com/catalogue/the-coming...</td>\n",
       "      <td>http://books.toscrape.com/media/cache/3d/54/3d...</td>\n",
       "    </tr>\n",
       "    <tr>\n",
       "      <th>8</th>\n",
       "      <td>The Boys in the Boat: Nine Americans and Their...</td>\n",
       "      <td>Four</td>\n",
       "      <td>£22.60</td>\n",
       "      <td>In stock</td>\n",
       "      <td>http://books.toscrape.com/catalogue/the-boys-i...</td>\n",
       "      <td>http://books.toscrape.com/media/cache/66/88/66...</td>\n",
       "    </tr>\n",
       "    <tr>\n",
       "      <th>9</th>\n",
       "      <td>The Black Maria</td>\n",
       "      <td>One</td>\n",
       "      <td>£52.15</td>\n",
       "      <td>In stock</td>\n",
       "      <td>http://books.toscrape.com/catalogue/the-black-...</td>\n",
       "      <td>http://books.toscrape.com/media/cache/58/46/58...</td>\n",
       "    </tr>\n",
       "    <tr>\n",
       "      <th>10</th>\n",
       "      <td>Starving Hearts (Triangular Trade Trilogy, #1)</td>\n",
       "      <td>Two</td>\n",
       "      <td>£13.99</td>\n",
       "      <td>In stock</td>\n",
       "      <td>http://books.toscrape.com/catalogue/starving-h...</td>\n",
       "      <td>http://books.toscrape.com/media/cache/be/f4/be...</td>\n",
       "    </tr>\n",
       "    <tr>\n",
       "      <th>11</th>\n",
       "      <td>Shakespeare's Sonnets</td>\n",
       "      <td>Four</td>\n",
       "      <td>£20.66</td>\n",
       "      <td>In stock</td>\n",
       "      <td>http://books.toscrape.com/catalogue/shakespear...</td>\n",
       "      <td>http://books.toscrape.com/media/cache/10/48/10...</td>\n",
       "    </tr>\n",
       "    <tr>\n",
       "      <th>12</th>\n",
       "      <td>Set Me Free</td>\n",
       "      <td>Five</td>\n",
       "      <td>£17.46</td>\n",
       "      <td>In stock</td>\n",
       "      <td>http://books.toscrape.com/catalogue/set-me-fre...</td>\n",
       "      <td>http://books.toscrape.com/media/cache/5b/88/5b...</td>\n",
       "    </tr>\n",
       "    <tr>\n",
       "      <th>13</th>\n",
       "      <td>Scott Pilgrim's Precious Little Life (Scott Pi...</td>\n",
       "      <td>Five</td>\n",
       "      <td>£52.29</td>\n",
       "      <td>In stock</td>\n",
       "      <td>http://books.toscrape.com/catalogue/scott-pilg...</td>\n",
       "      <td>http://books.toscrape.com/media/cache/94/b1/94...</td>\n",
       "    </tr>\n",
       "    <tr>\n",
       "      <th>14</th>\n",
       "      <td>Rip it Up and Start Again</td>\n",
       "      <td>Five</td>\n",
       "      <td>£35.02</td>\n",
       "      <td>In stock</td>\n",
       "      <td>http://books.toscrape.com/catalogue/rip-it-up-...</td>\n",
       "      <td>http://books.toscrape.com/media/cache/81/c4/81...</td>\n",
       "    </tr>\n",
       "    <tr>\n",
       "      <th>15</th>\n",
       "      <td>Our Band Could Be Your Life: Scenes from the A...</td>\n",
       "      <td>Three</td>\n",
       "      <td>£57.25</td>\n",
       "      <td>In stock</td>\n",
       "      <td>http://books.toscrape.com/catalogue/our-band-c...</td>\n",
       "      <td>http://books.toscrape.com/media/cache/54/60/54...</td>\n",
       "    </tr>\n",
       "    <tr>\n",
       "      <th>16</th>\n",
       "      <td>Olio</td>\n",
       "      <td>One</td>\n",
       "      <td>£23.88</td>\n",
       "      <td>In stock</td>\n",
       "      <td>http://books.toscrape.com/catalogue/olio_984/i...</td>\n",
       "      <td>http://books.toscrape.com/media/cache/55/33/55...</td>\n",
       "    </tr>\n",
       "    <tr>\n",
       "      <th>17</th>\n",
       "      <td>Mesaerion: The Best Science Fiction Stories 18...</td>\n",
       "      <td>One</td>\n",
       "      <td>£37.59</td>\n",
       "      <td>In stock</td>\n",
       "      <td>http://books.toscrape.com/catalogue/mesaerion-...</td>\n",
       "      <td>http://books.toscrape.com/media/cache/09/a3/09...</td>\n",
       "    </tr>\n",
       "    <tr>\n",
       "      <th>18</th>\n",
       "      <td>Libertarianism for Beginners</td>\n",
       "      <td>Two</td>\n",
       "      <td>£51.33</td>\n",
       "      <td>In stock</td>\n",
       "      <td>http://books.toscrape.com/catalogue/libertaria...</td>\n",
       "      <td>http://books.toscrape.com/media/cache/0b/bc/0b...</td>\n",
       "    </tr>\n",
       "    <tr>\n",
       "      <th>19</th>\n",
       "      <td>It's Only the Himalayas</td>\n",
       "      <td>Two</td>\n",
       "      <td>£45.17</td>\n",
       "      <td>In stock</td>\n",
       "      <td>http://books.toscrape.com/catalogue/its-only-t...</td>\n",
       "      <td>http://books.toscrape.com/media/cache/27/a5/27...</td>\n",
       "    </tr>\n",
       "  </tbody>\n",
       "</table>\n",
       "</div>"
      ],
      "text/plain": [
       "                                                Title Rating   Price  \\\n",
       "0                                A Light in the Attic  Three  £51.77   \n",
       "1                                  Tipping the Velvet    One  £53.74   \n",
       "2                                          Soumission    One  £50.10   \n",
       "3                                       Sharp Objects   Four  £47.82   \n",
       "4               Sapiens: A Brief History of Humankind   Five  £54.23   \n",
       "5                                     The Requiem Red    One  £22.65   \n",
       "6   The Dirty Little Secrets of Getting Your Dream...   Four  £33.34   \n",
       "7   The Coming Woman: A Novel Based on the Life of...  Three  £17.93   \n",
       "8   The Boys in the Boat: Nine Americans and Their...   Four  £22.60   \n",
       "9                                     The Black Maria    One  £52.15   \n",
       "10     Starving Hearts (Triangular Trade Trilogy, #1)    Two  £13.99   \n",
       "11                              Shakespeare's Sonnets   Four  £20.66   \n",
       "12                                        Set Me Free   Five  £17.46   \n",
       "13  Scott Pilgrim's Precious Little Life (Scott Pi...   Five  £52.29   \n",
       "14                          Rip it Up and Start Again   Five  £35.02   \n",
       "15  Our Band Could Be Your Life: Scenes from the A...  Three  £57.25   \n",
       "16                                               Olio    One  £23.88   \n",
       "17  Mesaerion: The Best Science Fiction Stories 18...    One  £37.59   \n",
       "18                       Libertarianism for Beginners    Two  £51.33   \n",
       "19                            It's Only the Himalayas    Two  £45.17   \n",
       "\n",
       "       Stock                                          Book Link  \\\n",
       "0   In stock  http://books.toscrape.com/catalogue/a-light-in...   \n",
       "1   In stock  http://books.toscrape.com/catalogue/tipping-th...   \n",
       "2   In stock  http://books.toscrape.com/catalogue/soumission...   \n",
       "3   In stock  http://books.toscrape.com/catalogue/sharp-obje...   \n",
       "4   In stock  http://books.toscrape.com/catalogue/sapiens-a-...   \n",
       "5   In stock  http://books.toscrape.com/catalogue/the-requie...   \n",
       "6   In stock  http://books.toscrape.com/catalogue/the-dirty-...   \n",
       "7   In stock  http://books.toscrape.com/catalogue/the-coming...   \n",
       "8   In stock  http://books.toscrape.com/catalogue/the-boys-i...   \n",
       "9   In stock  http://books.toscrape.com/catalogue/the-black-...   \n",
       "10  In stock  http://books.toscrape.com/catalogue/starving-h...   \n",
       "11  In stock  http://books.toscrape.com/catalogue/shakespear...   \n",
       "12  In stock  http://books.toscrape.com/catalogue/set-me-fre...   \n",
       "13  In stock  http://books.toscrape.com/catalogue/scott-pilg...   \n",
       "14  In stock  http://books.toscrape.com/catalogue/rip-it-up-...   \n",
       "15  In stock  http://books.toscrape.com/catalogue/our-band-c...   \n",
       "16  In stock  http://books.toscrape.com/catalogue/olio_984/i...   \n",
       "17  In stock  http://books.toscrape.com/catalogue/mesaerion-...   \n",
       "18  In stock  http://books.toscrape.com/catalogue/libertaria...   \n",
       "19  In stock  http://books.toscrape.com/catalogue/its-only-t...   \n",
       "\n",
       "                                           Image Link  \n",
       "0   http://books.toscrape.com/media/cache/2c/da/2c...  \n",
       "1   http://books.toscrape.com/media/cache/26/0c/26...  \n",
       "2   http://books.toscrape.com/media/cache/3e/ef/3e...  \n",
       "3   http://books.toscrape.com/media/cache/32/51/32...  \n",
       "4   http://books.toscrape.com/media/cache/be/a5/be...  \n",
       "5   http://books.toscrape.com/media/cache/68/33/68...  \n",
       "6   http://books.toscrape.com/media/cache/92/27/92...  \n",
       "7   http://books.toscrape.com/media/cache/3d/54/3d...  \n",
       "8   http://books.toscrape.com/media/cache/66/88/66...  \n",
       "9   http://books.toscrape.com/media/cache/58/46/58...  \n",
       "10  http://books.toscrape.com/media/cache/be/f4/be...  \n",
       "11  http://books.toscrape.com/media/cache/10/48/10...  \n",
       "12  http://books.toscrape.com/media/cache/5b/88/5b...  \n",
       "13  http://books.toscrape.com/media/cache/94/b1/94...  \n",
       "14  http://books.toscrape.com/media/cache/81/c4/81...  \n",
       "15  http://books.toscrape.com/media/cache/54/60/54...  \n",
       "16  http://books.toscrape.com/media/cache/55/33/55...  \n",
       "17  http://books.toscrape.com/media/cache/09/a3/09...  \n",
       "18  http://books.toscrape.com/media/cache/0b/bc/0b...  \n",
       "19  http://books.toscrape.com/media/cache/27/a5/27...  "
      ]
     },
     "execution_count": 54,
     "metadata": {},
     "output_type": "execute_result"
    }
   ],
   "source": [
    "pd.DataFrame(data,columns=['Title','Rating','Price','Stock','Book Link','Image Link'])"
   ]
  },
  {
   "cell_type": "code",
   "execution_count": null,
   "id": "1ad583ea",
   "metadata": {},
   "outputs": [],
   "source": []
  },
  {
   "cell_type": "markdown",
   "id": "6b4b625c",
   "metadata": {},
   "source": [
    "### <center><font color='clue'> Scrapping from Multiple Pages </font> </center>"
   ]
  },
  {
   "cell_type": "markdown",
   "id": "88734366",
   "metadata": {},
   "source": [
    "##### `Making our link dynamic`"
   ]
  },
  {
   "cell_type": "code",
   "execution_count": 61,
   "id": "7a7eb099",
   "metadata": {},
   "outputs": [],
   "source": [
    "from tqdm import tqdm"
   ]
  },
  {
   "cell_type": "code",
   "execution_count": 76,
   "id": "72522bdb",
   "metadata": {},
   "outputs": [
    {
     "name": "stderr",
     "output_type": "stream",
     "text": [
      "100%|███████████████████████████████████████████| 50/50 [00:53<00:00,  1.08s/it]\n"
     ]
    }
   ],
   "source": [
    "data=[]\n",
    "for i in tqdm(range(1,51)):\n",
    "    linkk='http://books.toscrape.com/catalogue/page-'+str(i)+'.html'\n",
    "    res=requests.get(linkk)\n",
    "    soup=BeautifulSoup(res.text,'html.parser')\n",
    "    \n",
    "    for sp in soup.find_all('li',class_='col-xs-6 col-sm-4 col-md-3 col-lg-3'):\n",
    "        book_link    ='http://books.toscrape.com/catalogue/'+sp.find_all('a')[-1].get('href')\n",
    "        title        =sp.find_all('a')[-1].get('title')\n",
    "        img_link     ='http://books.toscrape.com/'+sp.find('img').get('src')\n",
    "        rating       =sp.find('p').get('class')[-1]\n",
    "        price        =sp.find('p',class_='price_color').text[1:]\n",
    "        availability =sp.find('p',class_='instock availability').text.strip()\n",
    "        data.append([title,rating,price,availability,book_link,img_link])"
   ]
  },
  {
   "cell_type": "code",
   "execution_count": null,
   "id": "b0b409ea",
   "metadata": {},
   "outputs": [],
   "source": []
  },
  {
   "cell_type": "code",
   "execution_count": 77,
   "id": "52ac52f5",
   "metadata": {},
   "outputs": [
    {
     "data": {
      "text/plain": [
       "1000"
      ]
     },
     "execution_count": 77,
     "metadata": {},
     "output_type": "execute_result"
    }
   ],
   "source": [
    "len(data)"
   ]
  },
  {
   "cell_type": "code",
   "execution_count": 78,
   "id": "f587e201",
   "metadata": {},
   "outputs": [
    {
     "data": {
      "text/html": [
       "<div>\n",
       "<style scoped>\n",
       "    .dataframe tbody tr th:only-of-type {\n",
       "        vertical-align: middle;\n",
       "    }\n",
       "\n",
       "    .dataframe tbody tr th {\n",
       "        vertical-align: top;\n",
       "    }\n",
       "\n",
       "    .dataframe thead th {\n",
       "        text-align: right;\n",
       "    }\n",
       "</style>\n",
       "<table border=\"1\" class=\"dataframe\">\n",
       "  <thead>\n",
       "    <tr style=\"text-align: right;\">\n",
       "      <th></th>\n",
       "      <th>Title</th>\n",
       "      <th>Rating</th>\n",
       "      <th>Price</th>\n",
       "      <th>Stock</th>\n",
       "      <th>Book Link</th>\n",
       "      <th>Image Link</th>\n",
       "    </tr>\n",
       "  </thead>\n",
       "  <tbody>\n",
       "    <tr>\n",
       "      <th>0</th>\n",
       "      <td>A Light in the Attic</td>\n",
       "      <td>Three</td>\n",
       "      <td>£51.77</td>\n",
       "      <td>In stock</td>\n",
       "      <td>http://books.toscrape.com/catalogue/a-light-in...</td>\n",
       "      <td>http://books.toscrape.com/../media/cache/2c/da...</td>\n",
       "    </tr>\n",
       "    <tr>\n",
       "      <th>1</th>\n",
       "      <td>Tipping the Velvet</td>\n",
       "      <td>One</td>\n",
       "      <td>£53.74</td>\n",
       "      <td>In stock</td>\n",
       "      <td>http://books.toscrape.com/catalogue/tipping-th...</td>\n",
       "      <td>http://books.toscrape.com/../media/cache/26/0c...</td>\n",
       "    </tr>\n",
       "    <tr>\n",
       "      <th>2</th>\n",
       "      <td>Soumission</td>\n",
       "      <td>One</td>\n",
       "      <td>£50.10</td>\n",
       "      <td>In stock</td>\n",
       "      <td>http://books.toscrape.com/catalogue/soumission...</td>\n",
       "      <td>http://books.toscrape.com/../media/cache/3e/ef...</td>\n",
       "    </tr>\n",
       "    <tr>\n",
       "      <th>3</th>\n",
       "      <td>Sharp Objects</td>\n",
       "      <td>Four</td>\n",
       "      <td>£47.82</td>\n",
       "      <td>In stock</td>\n",
       "      <td>http://books.toscrape.com/catalogue/sharp-obje...</td>\n",
       "      <td>http://books.toscrape.com/../media/cache/32/51...</td>\n",
       "    </tr>\n",
       "    <tr>\n",
       "      <th>4</th>\n",
       "      <td>Sapiens: A Brief History of Humankind</td>\n",
       "      <td>Five</td>\n",
       "      <td>£54.23</td>\n",
       "      <td>In stock</td>\n",
       "      <td>http://books.toscrape.com/catalogue/sapiens-a-...</td>\n",
       "      <td>http://books.toscrape.com/../media/cache/be/a5...</td>\n",
       "    </tr>\n",
       "    <tr>\n",
       "      <th>...</th>\n",
       "      <td>...</td>\n",
       "      <td>...</td>\n",
       "      <td>...</td>\n",
       "      <td>...</td>\n",
       "      <td>...</td>\n",
       "      <td>...</td>\n",
       "    </tr>\n",
       "    <tr>\n",
       "      <th>995</th>\n",
       "      <td>Alice in Wonderland (Alice's Adventures in Won...</td>\n",
       "      <td>One</td>\n",
       "      <td>£55.53</td>\n",
       "      <td>In stock</td>\n",
       "      <td>http://books.toscrape.com/catalogue/alice-in-w...</td>\n",
       "      <td>http://books.toscrape.com/../media/cache/96/ee...</td>\n",
       "    </tr>\n",
       "    <tr>\n",
       "      <th>996</th>\n",
       "      <td>Ajin: Demi-Human, Volume 1 (Ajin: Demi-Human #1)</td>\n",
       "      <td>Four</td>\n",
       "      <td>£57.06</td>\n",
       "      <td>In stock</td>\n",
       "      <td>http://books.toscrape.com/catalogue/ajin-demi-...</td>\n",
       "      <td>http://books.toscrape.com/../media/cache/09/7c...</td>\n",
       "    </tr>\n",
       "    <tr>\n",
       "      <th>997</th>\n",
       "      <td>A Spy's Devotion (The Regency Spies of London #1)</td>\n",
       "      <td>Five</td>\n",
       "      <td>£16.97</td>\n",
       "      <td>In stock</td>\n",
       "      <td>http://books.toscrape.com/catalogue/a-spys-dev...</td>\n",
       "      <td>http://books.toscrape.com/../media/cache/1b/5f...</td>\n",
       "    </tr>\n",
       "    <tr>\n",
       "      <th>998</th>\n",
       "      <td>1st to Die (Women's Murder Club #1)</td>\n",
       "      <td>One</td>\n",
       "      <td>£53.98</td>\n",
       "      <td>In stock</td>\n",
       "      <td>http://books.toscrape.com/catalogue/1st-to-die...</td>\n",
       "      <td>http://books.toscrape.com/../media/cache/2b/41...</td>\n",
       "    </tr>\n",
       "    <tr>\n",
       "      <th>999</th>\n",
       "      <td>1,000 Places to See Before You Die</td>\n",
       "      <td>Five</td>\n",
       "      <td>£26.08</td>\n",
       "      <td>In stock</td>\n",
       "      <td>http://books.toscrape.com/catalogue/1000-place...</td>\n",
       "      <td>http://books.toscrape.com/../media/cache/d7/0f...</td>\n",
       "    </tr>\n",
       "  </tbody>\n",
       "</table>\n",
       "<p>1000 rows × 6 columns</p>\n",
       "</div>"
      ],
      "text/plain": [
       "                                                 Title Rating   Price  \\\n",
       "0                                 A Light in the Attic  Three  £51.77   \n",
       "1                                   Tipping the Velvet    One  £53.74   \n",
       "2                                           Soumission    One  £50.10   \n",
       "3                                        Sharp Objects   Four  £47.82   \n",
       "4                Sapiens: A Brief History of Humankind   Five  £54.23   \n",
       "..                                                 ...    ...     ...   \n",
       "995  Alice in Wonderland (Alice's Adventures in Won...    One  £55.53   \n",
       "996   Ajin: Demi-Human, Volume 1 (Ajin: Demi-Human #1)   Four  £57.06   \n",
       "997  A Spy's Devotion (The Regency Spies of London #1)   Five  £16.97   \n",
       "998                1st to Die (Women's Murder Club #1)    One  £53.98   \n",
       "999                 1,000 Places to See Before You Die   Five  £26.08   \n",
       "\n",
       "        Stock                                          Book Link  \\\n",
       "0    In stock  http://books.toscrape.com/catalogue/a-light-in...   \n",
       "1    In stock  http://books.toscrape.com/catalogue/tipping-th...   \n",
       "2    In stock  http://books.toscrape.com/catalogue/soumission...   \n",
       "3    In stock  http://books.toscrape.com/catalogue/sharp-obje...   \n",
       "4    In stock  http://books.toscrape.com/catalogue/sapiens-a-...   \n",
       "..        ...                                                ...   \n",
       "995  In stock  http://books.toscrape.com/catalogue/alice-in-w...   \n",
       "996  In stock  http://books.toscrape.com/catalogue/ajin-demi-...   \n",
       "997  In stock  http://books.toscrape.com/catalogue/a-spys-dev...   \n",
       "998  In stock  http://books.toscrape.com/catalogue/1st-to-die...   \n",
       "999  In stock  http://books.toscrape.com/catalogue/1000-place...   \n",
       "\n",
       "                                            Image Link  \n",
       "0    http://books.toscrape.com/../media/cache/2c/da...  \n",
       "1    http://books.toscrape.com/../media/cache/26/0c...  \n",
       "2    http://books.toscrape.com/../media/cache/3e/ef...  \n",
       "3    http://books.toscrape.com/../media/cache/32/51...  \n",
       "4    http://books.toscrape.com/../media/cache/be/a5...  \n",
       "..                                                 ...  \n",
       "995  http://books.toscrape.com/../media/cache/96/ee...  \n",
       "996  http://books.toscrape.com/../media/cache/09/7c...  \n",
       "997  http://books.toscrape.com/../media/cache/1b/5f...  \n",
       "998  http://books.toscrape.com/../media/cache/2b/41...  \n",
       "999  http://books.toscrape.com/../media/cache/d7/0f...  \n",
       "\n",
       "[1000 rows x 6 columns]"
      ]
     },
     "execution_count": 78,
     "metadata": {},
     "output_type": "execute_result"
    }
   ],
   "source": [
    "df=pd.DataFrame(data,columns=['Title','Rating','Price','Stock','Book Link','Image Link'])\n",
    "df"
   ]
  },
  {
   "cell_type": "code",
   "execution_count": null,
   "id": "b77ec56a",
   "metadata": {},
   "outputs": [],
   "source": []
  },
  {
   "cell_type": "code",
   "execution_count": 79,
   "id": "f40f2b4c",
   "metadata": {},
   "outputs": [
    {
     "data": {
      "text/plain": [
       "Title         0\n",
       "Rating        0\n",
       "Price         0\n",
       "Stock         0\n",
       "Book Link     0\n",
       "Image Link    0\n",
       "dtype: int64"
      ]
     },
     "execution_count": 79,
     "metadata": {},
     "output_type": "execute_result"
    }
   ],
   "source": [
    "df.isna().sum()"
   ]
  },
  {
   "cell_type": "code",
   "execution_count": null,
   "id": "bb62e33b",
   "metadata": {},
   "outputs": [],
   "source": []
  },
  {
   "cell_type": "markdown",
   "id": "de9e0091",
   "metadata": {},
   "source": [
    "### <font color='green'> Let's save this as well</font>"
   ]
  },
  {
   "cell_type": "code",
   "execution_count": 80,
   "id": "167500bd",
   "metadata": {},
   "outputs": [],
   "source": [
    "df.to_csv('Books.csv',index=False)"
   ]
  },
  {
   "cell_type": "code",
   "execution_count": null,
   "id": "2fe5b462",
   "metadata": {},
   "outputs": [],
   "source": []
  },
  {
   "cell_type": "markdown",
   "id": "91fb254a",
   "metadata": {},
   "source": [
    "### <center><font color='clue'> Scrapping Individual Pages in a detailed Manner </font> </center>"
   ]
  },
  {
   "cell_type": "markdown",
   "id": "712dc30b",
   "metadata": {},
   "source": [
    "### Approch 1"
   ]
  },
  {
   "cell_type": "code",
   "execution_count": 102,
   "id": "0b55e819",
   "metadata": {},
   "outputs": [
    {
     "name": "stderr",
     "output_type": "stream",
     "text": [
      "100%|███████████████████████████████████████| 1000/1000 [10:31<00:00,  1.58it/s]\n"
     ]
    }
   ],
   "source": [
    "data=[]\n",
    "for link in tqdm(df['Book Link']):\n",
    "    res=requests.get(link)\n",
    "    soup=BeautifulSoup(res.text,'html.parser')\n",
    "    \n",
    "    book_type   =soup.find('ul',class_='breadcrumb').find_all('a')[2].text\n",
    "    upc         =soup.find('table',class_='table table-striped').find_all('td')[0].text\n",
    "    price_x     =soup.find('table',class_='table table-striped').find_all('td')[2].text[1:]\n",
    "    price_in    =soup.find('table',class_='table table-striped').find_all('td')[3].text[1:]\n",
    "    tax         =soup.find('table',class_='table table-striped').find_all('td')[4].text[1:]\n",
    "    avail       =soup.find('table',class_='table table-striped').find_all('td')[5].text\n",
    "    reviews     =soup.find('table',class_='table table-striped').find_all('td')[6].text\n",
    "    \n",
    "    data.append([book_type,price_x,price_in,tax,avail,upc,reviews])"
   ]
  },
  {
   "cell_type": "code",
   "execution_count": 105,
   "id": "e2a00f45",
   "metadata": {},
   "outputs": [
    {
     "data": {
      "text/plain": [
       "1000"
      ]
     },
     "execution_count": 105,
     "metadata": {},
     "output_type": "execute_result"
    }
   ],
   "source": [
    "len(data)"
   ]
  },
  {
   "cell_type": "code",
   "execution_count": 106,
   "id": "e6683545",
   "metadata": {},
   "outputs": [
    {
     "data": {
      "text/plain": [
       "['Poetry',\n",
       " '£51.77',\n",
       " '£51.77',\n",
       " '£0.00',\n",
       " 'In stock (22 available)',\n",
       " 'a897fe39b1053632',\n",
       " '0']"
      ]
     },
     "execution_count": 106,
     "metadata": {},
     "output_type": "execute_result"
    }
   ],
   "source": [
    "data[0]"
   ]
  },
  {
   "cell_type": "code",
   "execution_count": null,
   "id": "198e9870",
   "metadata": {},
   "outputs": [],
   "source": []
  },
  {
   "cell_type": "code",
   "execution_count": 107,
   "id": "03d2c839",
   "metadata": {},
   "outputs": [],
   "source": [
    "df=pd.DataFrame(data,columns=['Category','Price_Excluding_Tax','Price_Including_Tax','Tax','Quantity','upc','reviews'])"
   ]
  },
  {
   "cell_type": "code",
   "execution_count": 108,
   "id": "19717326",
   "metadata": {},
   "outputs": [
    {
     "data": {
      "text/html": [
       "<div>\n",
       "<style scoped>\n",
       "    .dataframe tbody tr th:only-of-type {\n",
       "        vertical-align: middle;\n",
       "    }\n",
       "\n",
       "    .dataframe tbody tr th {\n",
       "        vertical-align: top;\n",
       "    }\n",
       "\n",
       "    .dataframe thead th {\n",
       "        text-align: right;\n",
       "    }\n",
       "</style>\n",
       "<table border=\"1\" class=\"dataframe\">\n",
       "  <thead>\n",
       "    <tr style=\"text-align: right;\">\n",
       "      <th></th>\n",
       "      <th>Category</th>\n",
       "      <th>Price_Excluding_Tax</th>\n",
       "      <th>Price_Including_Tax</th>\n",
       "      <th>Tax</th>\n",
       "      <th>Quantity</th>\n",
       "      <th>upc</th>\n",
       "      <th>reviews</th>\n",
       "    </tr>\n",
       "  </thead>\n",
       "  <tbody>\n",
       "    <tr>\n",
       "      <th>0</th>\n",
       "      <td>Poetry</td>\n",
       "      <td>£51.77</td>\n",
       "      <td>£51.77</td>\n",
       "      <td>£0.00</td>\n",
       "      <td>In stock (22 available)</td>\n",
       "      <td>a897fe39b1053632</td>\n",
       "      <td>0</td>\n",
       "    </tr>\n",
       "    <tr>\n",
       "      <th>1</th>\n",
       "      <td>Historical Fiction</td>\n",
       "      <td>£53.74</td>\n",
       "      <td>£53.74</td>\n",
       "      <td>£0.00</td>\n",
       "      <td>In stock (20 available)</td>\n",
       "      <td>90fa61229261140a</td>\n",
       "      <td>0</td>\n",
       "    </tr>\n",
       "    <tr>\n",
       "      <th>2</th>\n",
       "      <td>Fiction</td>\n",
       "      <td>£50.10</td>\n",
       "      <td>£50.10</td>\n",
       "      <td>£0.00</td>\n",
       "      <td>In stock (20 available)</td>\n",
       "      <td>6957f44c3847a760</td>\n",
       "      <td>0</td>\n",
       "    </tr>\n",
       "    <tr>\n",
       "      <th>3</th>\n",
       "      <td>Mystery</td>\n",
       "      <td>£47.82</td>\n",
       "      <td>£47.82</td>\n",
       "      <td>£0.00</td>\n",
       "      <td>In stock (20 available)</td>\n",
       "      <td>e00eb4fd7b871a48</td>\n",
       "      <td>0</td>\n",
       "    </tr>\n",
       "    <tr>\n",
       "      <th>4</th>\n",
       "      <td>History</td>\n",
       "      <td>£54.23</td>\n",
       "      <td>£54.23</td>\n",
       "      <td>£0.00</td>\n",
       "      <td>In stock (20 available)</td>\n",
       "      <td>4165285e1663650f</td>\n",
       "      <td>0</td>\n",
       "    </tr>\n",
       "  </tbody>\n",
       "</table>\n",
       "</div>"
      ],
      "text/plain": [
       "             Category Price_Excluding_Tax Price_Including_Tax    Tax  \\\n",
       "0              Poetry              £51.77              £51.77  £0.00   \n",
       "1  Historical Fiction              £53.74              £53.74  £0.00   \n",
       "2             Fiction              £50.10              £50.10  £0.00   \n",
       "3             Mystery              £47.82              £47.82  £0.00   \n",
       "4             History              £54.23              £54.23  £0.00   \n",
       "\n",
       "                  Quantity               upc reviews  \n",
       "0  In stock (22 available)  a897fe39b1053632       0  \n",
       "1  In stock (20 available)  90fa61229261140a       0  \n",
       "2  In stock (20 available)  6957f44c3847a760       0  \n",
       "3  In stock (20 available)  e00eb4fd7b871a48       0  \n",
       "4  In stock (20 available)  4165285e1663650f       0  "
      ]
     },
     "execution_count": 108,
     "metadata": {},
     "output_type": "execute_result"
    }
   ],
   "source": [
    "df.head()"
   ]
  },
  {
   "cell_type": "code",
   "execution_count": 109,
   "id": "b318c0b2",
   "metadata": {},
   "outputs": [
    {
     "data": {
      "text/plain": [
       "Category               0\n",
       "Price_Excluding_Tax    0\n",
       "Price_Including_Tax    0\n",
       "Tax                    0\n",
       "Quantity               0\n",
       "upc                    0\n",
       "reviews                0\n",
       "dtype: int64"
      ]
     },
     "execution_count": 109,
     "metadata": {},
     "output_type": "execute_result"
    }
   ],
   "source": [
    "df.isna().sum()"
   ]
  },
  {
   "cell_type": "code",
   "execution_count": null,
   "id": "fcd736dd",
   "metadata": {},
   "outputs": [],
   "source": []
  },
  {
   "cell_type": "code",
   "execution_count": 110,
   "id": "c2d95133",
   "metadata": {},
   "outputs": [],
   "source": [
    "df.to_csv('Data.csv',index=False)"
   ]
  },
  {
   "cell_type": "code",
   "execution_count": null,
   "id": "08b832e0",
   "metadata": {},
   "outputs": [],
   "source": []
  },
  {
   "cell_type": "markdown",
   "id": "e9ededda",
   "metadata": {},
   "source": [
    "## <center><font color='clue'> Combining the two main datasets</font></center>"
   ]
  },
  {
   "cell_type": "code",
   "execution_count": 111,
   "id": "1a0ebb77",
   "metadata": {},
   "outputs": [],
   "source": [
    "df1=pd.read_csv('Books.csv')\n",
    "df2=pd.read_csv('Data.csv')"
   ]
  },
  {
   "cell_type": "code",
   "execution_count": 112,
   "id": "9efdbf08",
   "metadata": {},
   "outputs": [
    {
     "data": {
      "text/html": [
       "<div>\n",
       "<style scoped>\n",
       "    .dataframe tbody tr th:only-of-type {\n",
       "        vertical-align: middle;\n",
       "    }\n",
       "\n",
       "    .dataframe tbody tr th {\n",
       "        vertical-align: top;\n",
       "    }\n",
       "\n",
       "    .dataframe thead th {\n",
       "        text-align: right;\n",
       "    }\n",
       "</style>\n",
       "<table border=\"1\" class=\"dataframe\">\n",
       "  <thead>\n",
       "    <tr style=\"text-align: right;\">\n",
       "      <th></th>\n",
       "      <th>Title</th>\n",
       "      <th>Rating</th>\n",
       "      <th>Price</th>\n",
       "      <th>Stock</th>\n",
       "      <th>Book Link</th>\n",
       "      <th>Image Link</th>\n",
       "    </tr>\n",
       "  </thead>\n",
       "  <tbody>\n",
       "    <tr>\n",
       "      <th>0</th>\n",
       "      <td>A Light in the Attic</td>\n",
       "      <td>Three</td>\n",
       "      <td>£51.77</td>\n",
       "      <td>In stock</td>\n",
       "      <td>http://books.toscrape.com/catalogue/a-light-in...</td>\n",
       "      <td>http://books.toscrape.com/../media/cache/2c/da...</td>\n",
       "    </tr>\n",
       "    <tr>\n",
       "      <th>1</th>\n",
       "      <td>Tipping the Velvet</td>\n",
       "      <td>One</td>\n",
       "      <td>£53.74</td>\n",
       "      <td>In stock</td>\n",
       "      <td>http://books.toscrape.com/catalogue/tipping-th...</td>\n",
       "      <td>http://books.toscrape.com/../media/cache/26/0c...</td>\n",
       "    </tr>\n",
       "    <tr>\n",
       "      <th>2</th>\n",
       "      <td>Soumission</td>\n",
       "      <td>One</td>\n",
       "      <td>£50.10</td>\n",
       "      <td>In stock</td>\n",
       "      <td>http://books.toscrape.com/catalogue/soumission...</td>\n",
       "      <td>http://books.toscrape.com/../media/cache/3e/ef...</td>\n",
       "    </tr>\n",
       "    <tr>\n",
       "      <th>3</th>\n",
       "      <td>Sharp Objects</td>\n",
       "      <td>Four</td>\n",
       "      <td>£47.82</td>\n",
       "      <td>In stock</td>\n",
       "      <td>http://books.toscrape.com/catalogue/sharp-obje...</td>\n",
       "      <td>http://books.toscrape.com/../media/cache/32/51...</td>\n",
       "    </tr>\n",
       "    <tr>\n",
       "      <th>4</th>\n",
       "      <td>Sapiens: A Brief History of Humankind</td>\n",
       "      <td>Five</td>\n",
       "      <td>£54.23</td>\n",
       "      <td>In stock</td>\n",
       "      <td>http://books.toscrape.com/catalogue/sapiens-a-...</td>\n",
       "      <td>http://books.toscrape.com/../media/cache/be/a5...</td>\n",
       "    </tr>\n",
       "  </tbody>\n",
       "</table>\n",
       "</div>"
      ],
      "text/plain": [
       "                                   Title Rating   Price     Stock  \\\n",
       "0                   A Light in the Attic  Three  £51.77  In stock   \n",
       "1                     Tipping the Velvet    One  £53.74  In stock   \n",
       "2                             Soumission    One  £50.10  In stock   \n",
       "3                          Sharp Objects   Four  £47.82  In stock   \n",
       "4  Sapiens: A Brief History of Humankind   Five  £54.23  In stock   \n",
       "\n",
       "                                           Book Link  \\\n",
       "0  http://books.toscrape.com/catalogue/a-light-in...   \n",
       "1  http://books.toscrape.com/catalogue/tipping-th...   \n",
       "2  http://books.toscrape.com/catalogue/soumission...   \n",
       "3  http://books.toscrape.com/catalogue/sharp-obje...   \n",
       "4  http://books.toscrape.com/catalogue/sapiens-a-...   \n",
       "\n",
       "                                          Image Link  \n",
       "0  http://books.toscrape.com/../media/cache/2c/da...  \n",
       "1  http://books.toscrape.com/../media/cache/26/0c...  \n",
       "2  http://books.toscrape.com/../media/cache/3e/ef...  \n",
       "3  http://books.toscrape.com/../media/cache/32/51...  \n",
       "4  http://books.toscrape.com/../media/cache/be/a5...  "
      ]
     },
     "execution_count": 112,
     "metadata": {},
     "output_type": "execute_result"
    }
   ],
   "source": [
    "df1.head()"
   ]
  },
  {
   "cell_type": "code",
   "execution_count": 113,
   "id": "fae27ec4",
   "metadata": {},
   "outputs": [
    {
     "data": {
      "text/html": [
       "<div>\n",
       "<style scoped>\n",
       "    .dataframe tbody tr th:only-of-type {\n",
       "        vertical-align: middle;\n",
       "    }\n",
       "\n",
       "    .dataframe tbody tr th {\n",
       "        vertical-align: top;\n",
       "    }\n",
       "\n",
       "    .dataframe thead th {\n",
       "        text-align: right;\n",
       "    }\n",
       "</style>\n",
       "<table border=\"1\" class=\"dataframe\">\n",
       "  <thead>\n",
       "    <tr style=\"text-align: right;\">\n",
       "      <th></th>\n",
       "      <th>Category</th>\n",
       "      <th>Price_Excluding_Tax</th>\n",
       "      <th>Price_Including_Tax</th>\n",
       "      <th>Tax</th>\n",
       "      <th>Quantity</th>\n",
       "      <th>upc</th>\n",
       "      <th>reviews</th>\n",
       "    </tr>\n",
       "  </thead>\n",
       "  <tbody>\n",
       "    <tr>\n",
       "      <th>0</th>\n",
       "      <td>Poetry</td>\n",
       "      <td>£51.77</td>\n",
       "      <td>£51.77</td>\n",
       "      <td>£0.00</td>\n",
       "      <td>In stock (22 available)</td>\n",
       "      <td>a897fe39b1053632</td>\n",
       "      <td>0</td>\n",
       "    </tr>\n",
       "    <tr>\n",
       "      <th>1</th>\n",
       "      <td>Historical Fiction</td>\n",
       "      <td>£53.74</td>\n",
       "      <td>£53.74</td>\n",
       "      <td>£0.00</td>\n",
       "      <td>In stock (20 available)</td>\n",
       "      <td>90fa61229261140a</td>\n",
       "      <td>0</td>\n",
       "    </tr>\n",
       "    <tr>\n",
       "      <th>2</th>\n",
       "      <td>Fiction</td>\n",
       "      <td>£50.10</td>\n",
       "      <td>£50.10</td>\n",
       "      <td>£0.00</td>\n",
       "      <td>In stock (20 available)</td>\n",
       "      <td>6957f44c3847a760</td>\n",
       "      <td>0</td>\n",
       "    </tr>\n",
       "    <tr>\n",
       "      <th>3</th>\n",
       "      <td>Mystery</td>\n",
       "      <td>£47.82</td>\n",
       "      <td>£47.82</td>\n",
       "      <td>£0.00</td>\n",
       "      <td>In stock (20 available)</td>\n",
       "      <td>e00eb4fd7b871a48</td>\n",
       "      <td>0</td>\n",
       "    </tr>\n",
       "    <tr>\n",
       "      <th>4</th>\n",
       "      <td>History</td>\n",
       "      <td>£54.23</td>\n",
       "      <td>£54.23</td>\n",
       "      <td>£0.00</td>\n",
       "      <td>In stock (20 available)</td>\n",
       "      <td>4165285e1663650f</td>\n",
       "      <td>0</td>\n",
       "    </tr>\n",
       "  </tbody>\n",
       "</table>\n",
       "</div>"
      ],
      "text/plain": [
       "             Category Price_Excluding_Tax Price_Including_Tax    Tax  \\\n",
       "0              Poetry              £51.77              £51.77  £0.00   \n",
       "1  Historical Fiction              £53.74              £53.74  £0.00   \n",
       "2             Fiction              £50.10              £50.10  £0.00   \n",
       "3             Mystery              £47.82              £47.82  £0.00   \n",
       "4             History              £54.23              £54.23  £0.00   \n",
       "\n",
       "                  Quantity               upc  reviews  \n",
       "0  In stock (22 available)  a897fe39b1053632        0  \n",
       "1  In stock (20 available)  90fa61229261140a        0  \n",
       "2  In stock (20 available)  6957f44c3847a760        0  \n",
       "3  In stock (20 available)  e00eb4fd7b871a48        0  \n",
       "4  In stock (20 available)  4165285e1663650f        0  "
      ]
     },
     "execution_count": 113,
     "metadata": {},
     "output_type": "execute_result"
    }
   ],
   "source": [
    "df2.head()"
   ]
  },
  {
   "cell_type": "code",
   "execution_count": null,
   "id": "38228dde",
   "metadata": {},
   "outputs": [],
   "source": []
  },
  {
   "cell_type": "markdown",
   "id": "83e16d3f",
   "metadata": {},
   "source": [
    "### 1) Adding the title Column"
   ]
  },
  {
   "cell_type": "code",
   "execution_count": 114,
   "id": "0ed5d752",
   "metadata": {},
   "outputs": [],
   "source": [
    "df=pd.DataFrame()"
   ]
  },
  {
   "cell_type": "code",
   "execution_count": 116,
   "id": "3e358aca",
   "metadata": {},
   "outputs": [
    {
     "data": {
      "text/html": [
       "<div>\n",
       "<style scoped>\n",
       "    .dataframe tbody tr th:only-of-type {\n",
       "        vertical-align: middle;\n",
       "    }\n",
       "\n",
       "    .dataframe tbody tr th {\n",
       "        vertical-align: top;\n",
       "    }\n",
       "\n",
       "    .dataframe thead th {\n",
       "        text-align: right;\n",
       "    }\n",
       "</style>\n",
       "<table border=\"1\" class=\"dataframe\">\n",
       "  <thead>\n",
       "    <tr style=\"text-align: right;\">\n",
       "      <th></th>\n",
       "    </tr>\n",
       "  </thead>\n",
       "  <tbody>\n",
       "  </tbody>\n",
       "</table>\n",
       "</div>"
      ],
      "text/plain": [
       "Empty DataFrame\n",
       "Columns: []\n",
       "Index: []"
      ]
     },
     "execution_count": 116,
     "metadata": {},
     "output_type": "execute_result"
    }
   ],
   "source": [
    "df"
   ]
  },
  {
   "cell_type": "code",
   "execution_count": 117,
   "id": "dfb1e232",
   "metadata": {},
   "outputs": [],
   "source": [
    "df['Title']=df1['Title']\n",
    "df['upc']=df2['upc']\n",
    "df['Category']=df2['Category']\n",
    "df['Price_Excluding_Tax']=df2['Price_Excluding_Tax']\n",
    "df['Price_Including_Tax']=df2['Price_Including_Tax']\n",
    "df['Tax']=df2['Tax']\n",
    "df['Rating']=df1['Rating']\n",
    "df['Review']=df2['reviews']\n",
    "df['quantity']=df2['Quantity']\n",
    "df['Stock']=df1['Stock']\n",
    "\n",
    "df['Book_link']=df1['Book Link']\n",
    "df['Image_link']=df1['Image Link']"
   ]
  },
  {
   "cell_type": "code",
   "execution_count": 121,
   "id": "ecade222",
   "metadata": {},
   "outputs": [
    {
     "data": {
      "text/plain": [
       "Title                  0\n",
       "upc                    0\n",
       "Category               0\n",
       "Price_Excluding_Tax    0\n",
       "Price_Including_Tax    0\n",
       "Tax                    0\n",
       "Rating                 0\n",
       "Review                 0\n",
       "quantity               0\n",
       "Stock                  0\n",
       "Book_link              0\n",
       "Image_link             0\n",
       "dtype: int64"
      ]
     },
     "execution_count": 121,
     "metadata": {},
     "output_type": "execute_result"
    }
   ],
   "source": [
    "df.isnull().sum()"
   ]
  },
  {
   "cell_type": "code",
   "execution_count": 122,
   "id": "d7c68e9c",
   "metadata": {},
   "outputs": [
    {
     "data": {
      "text/html": [
       "<div>\n",
       "<style scoped>\n",
       "    .dataframe tbody tr th:only-of-type {\n",
       "        vertical-align: middle;\n",
       "    }\n",
       "\n",
       "    .dataframe tbody tr th {\n",
       "        vertical-align: top;\n",
       "    }\n",
       "\n",
       "    .dataframe thead th {\n",
       "        text-align: right;\n",
       "    }\n",
       "</style>\n",
       "<table border=\"1\" class=\"dataframe\">\n",
       "  <thead>\n",
       "    <tr style=\"text-align: right;\">\n",
       "      <th></th>\n",
       "      <th>Title</th>\n",
       "      <th>upc</th>\n",
       "      <th>Category</th>\n",
       "      <th>Price_Excluding_Tax</th>\n",
       "      <th>Price_Including_Tax</th>\n",
       "      <th>Tax</th>\n",
       "      <th>Rating</th>\n",
       "      <th>Review</th>\n",
       "      <th>quantity</th>\n",
       "      <th>Stock</th>\n",
       "      <th>Book_link</th>\n",
       "      <th>Image_link</th>\n",
       "    </tr>\n",
       "  </thead>\n",
       "  <tbody>\n",
       "    <tr>\n",
       "      <th>0</th>\n",
       "      <td>A Light in the Attic</td>\n",
       "      <td>a897fe39b1053632</td>\n",
       "      <td>Poetry</td>\n",
       "      <td>£51.77</td>\n",
       "      <td>£51.77</td>\n",
       "      <td>£0.00</td>\n",
       "      <td>Three</td>\n",
       "      <td>0</td>\n",
       "      <td>In stock (22 available)</td>\n",
       "      <td>In stock</td>\n",
       "      <td>http://books.toscrape.com/catalogue/a-light-in...</td>\n",
       "      <td>http://books.toscrape.com/../media/cache/2c/da...</td>\n",
       "    </tr>\n",
       "    <tr>\n",
       "      <th>1</th>\n",
       "      <td>Tipping the Velvet</td>\n",
       "      <td>90fa61229261140a</td>\n",
       "      <td>Historical Fiction</td>\n",
       "      <td>£53.74</td>\n",
       "      <td>£53.74</td>\n",
       "      <td>£0.00</td>\n",
       "      <td>One</td>\n",
       "      <td>0</td>\n",
       "      <td>In stock (20 available)</td>\n",
       "      <td>In stock</td>\n",
       "      <td>http://books.toscrape.com/catalogue/tipping-th...</td>\n",
       "      <td>http://books.toscrape.com/../media/cache/26/0c...</td>\n",
       "    </tr>\n",
       "    <tr>\n",
       "      <th>2</th>\n",
       "      <td>Soumission</td>\n",
       "      <td>6957f44c3847a760</td>\n",
       "      <td>Fiction</td>\n",
       "      <td>£50.10</td>\n",
       "      <td>£50.10</td>\n",
       "      <td>£0.00</td>\n",
       "      <td>One</td>\n",
       "      <td>0</td>\n",
       "      <td>In stock (20 available)</td>\n",
       "      <td>In stock</td>\n",
       "      <td>http://books.toscrape.com/catalogue/soumission...</td>\n",
       "      <td>http://books.toscrape.com/../media/cache/3e/ef...</td>\n",
       "    </tr>\n",
       "    <tr>\n",
       "      <th>3</th>\n",
       "      <td>Sharp Objects</td>\n",
       "      <td>e00eb4fd7b871a48</td>\n",
       "      <td>Mystery</td>\n",
       "      <td>£47.82</td>\n",
       "      <td>£47.82</td>\n",
       "      <td>£0.00</td>\n",
       "      <td>Four</td>\n",
       "      <td>0</td>\n",
       "      <td>In stock (20 available)</td>\n",
       "      <td>In stock</td>\n",
       "      <td>http://books.toscrape.com/catalogue/sharp-obje...</td>\n",
       "      <td>http://books.toscrape.com/../media/cache/32/51...</td>\n",
       "    </tr>\n",
       "    <tr>\n",
       "      <th>4</th>\n",
       "      <td>Sapiens: A Brief History of Humankind</td>\n",
       "      <td>4165285e1663650f</td>\n",
       "      <td>History</td>\n",
       "      <td>£54.23</td>\n",
       "      <td>£54.23</td>\n",
       "      <td>£0.00</td>\n",
       "      <td>Five</td>\n",
       "      <td>0</td>\n",
       "      <td>In stock (20 available)</td>\n",
       "      <td>In stock</td>\n",
       "      <td>http://books.toscrape.com/catalogue/sapiens-a-...</td>\n",
       "      <td>http://books.toscrape.com/../media/cache/be/a5...</td>\n",
       "    </tr>\n",
       "  </tbody>\n",
       "</table>\n",
       "</div>"
      ],
      "text/plain": [
       "                                   Title               upc  \\\n",
       "0                   A Light in the Attic  a897fe39b1053632   \n",
       "1                     Tipping the Velvet  90fa61229261140a   \n",
       "2                             Soumission  6957f44c3847a760   \n",
       "3                          Sharp Objects  e00eb4fd7b871a48   \n",
       "4  Sapiens: A Brief History of Humankind  4165285e1663650f   \n",
       "\n",
       "             Category Price_Excluding_Tax Price_Including_Tax    Tax Rating  \\\n",
       "0              Poetry              £51.77              £51.77  £0.00  Three   \n",
       "1  Historical Fiction              £53.74              £53.74  £0.00    One   \n",
       "2             Fiction              £50.10              £50.10  £0.00    One   \n",
       "3             Mystery              £47.82              £47.82  £0.00   Four   \n",
       "4             History              £54.23              £54.23  £0.00   Five   \n",
       "\n",
       "   Review                 quantity     Stock  \\\n",
       "0       0  In stock (22 available)  In stock   \n",
       "1       0  In stock (20 available)  In stock   \n",
       "2       0  In stock (20 available)  In stock   \n",
       "3       0  In stock (20 available)  In stock   \n",
       "4       0  In stock (20 available)  In stock   \n",
       "\n",
       "                                           Book_link  \\\n",
       "0  http://books.toscrape.com/catalogue/a-light-in...   \n",
       "1  http://books.toscrape.com/catalogue/tipping-th...   \n",
       "2  http://books.toscrape.com/catalogue/soumission...   \n",
       "3  http://books.toscrape.com/catalogue/sharp-obje...   \n",
       "4  http://books.toscrape.com/catalogue/sapiens-a-...   \n",
       "\n",
       "                                          Image_link  \n",
       "0  http://books.toscrape.com/../media/cache/2c/da...  \n",
       "1  http://books.toscrape.com/../media/cache/26/0c...  \n",
       "2  http://books.toscrape.com/../media/cache/3e/ef...  \n",
       "3  http://books.toscrape.com/../media/cache/32/51...  \n",
       "4  http://books.toscrape.com/../media/cache/be/a5...  "
      ]
     },
     "execution_count": 122,
     "metadata": {},
     "output_type": "execute_result"
    }
   ],
   "source": [
    "df.head()\n"
   ]
  },
  {
   "cell_type": "code",
   "execution_count": null,
   "id": "c4d3809d",
   "metadata": {},
   "outputs": [],
   "source": []
  },
  {
   "cell_type": "code",
   "execution_count": null,
   "id": "61d9e84a",
   "metadata": {},
   "outputs": [],
   "source": []
  },
  {
   "cell_type": "markdown",
   "id": "7f1b37d4",
   "metadata": {},
   "source": [
    "## <font color='green'> Making our final Dataset</font>"
   ]
  },
  {
   "cell_type": "code",
   "execution_count": 123,
   "id": "daeb65d6",
   "metadata": {},
   "outputs": [],
   "source": [
    "df.to_csv('Final.csv',index=False)"
   ]
  },
  {
   "cell_type": "raw",
   "id": "e12c1d99",
   "metadata": {},
   "source": [
    "                                             #Happy Learning"
   ]
  }
 ],
 "metadata": {
  "kernelspec": {
   "display_name": "Python 3 (ipykernel)",
   "language": "python",
   "name": "python3"
  },
  "language_info": {
   "codemirror_mode": {
    "name": "ipython",
    "version": 3
   },
   "file_extension": ".py",
   "mimetype": "text/x-python",
   "name": "python",
   "nbconvert_exporter": "python",
   "pygments_lexer": "ipython3",
   "version": "3.9.13"
  }
 },
 "nbformat": 4,
 "nbformat_minor": 5
}
