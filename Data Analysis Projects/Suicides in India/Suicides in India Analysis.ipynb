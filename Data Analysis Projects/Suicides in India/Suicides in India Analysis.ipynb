{
 "cells": [
  {
   "cell_type": "code",
   "execution_count": 1,
   "id": "f4bc0631",
   "metadata": {},
   "outputs": [],
   "source": [
    "import pandas as pd\n",
    "import numpy as np\n",
    "import seaborn as sns\n",
    "import matplotlib.pyplot as plt"
   ]
  },
  {
   "cell_type": "code",
   "execution_count": 2,
   "id": "338ba9dd",
   "metadata": {},
   "outputs": [],
   "source": [
    "df=pd.read_csv('suicides.csv')"
   ]
  },
  {
   "cell_type": "code",
   "execution_count": 4,
   "id": "ba52cd54",
   "metadata": {},
   "outputs": [
    {
     "data": {
      "text/html": [
       "<div>\n",
       "<style scoped>\n",
       "    .dataframe tbody tr th:only-of-type {\n",
       "        vertical-align: middle;\n",
       "    }\n",
       "\n",
       "    .dataframe tbody tr th {\n",
       "        vertical-align: top;\n",
       "    }\n",
       "\n",
       "    .dataframe thead th {\n",
       "        text-align: right;\n",
       "    }\n",
       "</style>\n",
       "<table border=\"1\" class=\"dataframe\">\n",
       "  <thead>\n",
       "    <tr style=\"text-align: right;\">\n",
       "      <th></th>\n",
       "      <th>State</th>\n",
       "      <th>Year</th>\n",
       "      <th>Type_code</th>\n",
       "      <th>Type</th>\n",
       "      <th>Gender</th>\n",
       "      <th>Age_group</th>\n",
       "      <th>Total</th>\n",
       "    </tr>\n",
       "  </thead>\n",
       "  <tbody>\n",
       "    <tr>\n",
       "      <th>0</th>\n",
       "      <td>A &amp; N Islands</td>\n",
       "      <td>2001</td>\n",
       "      <td>Causes</td>\n",
       "      <td>Illness (Aids/STD)</td>\n",
       "      <td>Female</td>\n",
       "      <td>0-14</td>\n",
       "      <td>0</td>\n",
       "    </tr>\n",
       "    <tr>\n",
       "      <th>1</th>\n",
       "      <td>A &amp; N Islands</td>\n",
       "      <td>2001</td>\n",
       "      <td>Causes</td>\n",
       "      <td>Bankruptcy or Sudden change in Economic</td>\n",
       "      <td>Female</td>\n",
       "      <td>0-14</td>\n",
       "      <td>0</td>\n",
       "    </tr>\n",
       "    <tr>\n",
       "      <th>2</th>\n",
       "      <td>A &amp; N Islands</td>\n",
       "      <td>2001</td>\n",
       "      <td>Causes</td>\n",
       "      <td>Cancellation/Non-Settlement of Marriage</td>\n",
       "      <td>Female</td>\n",
       "      <td>0-14</td>\n",
       "      <td>0</td>\n",
       "    </tr>\n",
       "    <tr>\n",
       "      <th>3</th>\n",
       "      <td>A &amp; N Islands</td>\n",
       "      <td>2001</td>\n",
       "      <td>Causes</td>\n",
       "      <td>Physical Abuse (Rape/Incest Etc.)</td>\n",
       "      <td>Female</td>\n",
       "      <td>0-14</td>\n",
       "      <td>0</td>\n",
       "    </tr>\n",
       "    <tr>\n",
       "      <th>4</th>\n",
       "      <td>A &amp; N Islands</td>\n",
       "      <td>2001</td>\n",
       "      <td>Causes</td>\n",
       "      <td>Dowry Dispute</td>\n",
       "      <td>Female</td>\n",
       "      <td>0-14</td>\n",
       "      <td>0</td>\n",
       "    </tr>\n",
       "  </tbody>\n",
       "</table>\n",
       "</div>"
      ],
      "text/plain": [
       "           State  Year Type_code                                     Type  \\\n",
       "0  A & N Islands  2001    Causes                       Illness (Aids/STD)   \n",
       "1  A & N Islands  2001    Causes  Bankruptcy or Sudden change in Economic   \n",
       "2  A & N Islands  2001    Causes  Cancellation/Non-Settlement of Marriage   \n",
       "3  A & N Islands  2001    Causes        Physical Abuse (Rape/Incest Etc.)   \n",
       "4  A & N Islands  2001    Causes                            Dowry Dispute   \n",
       "\n",
       "   Gender Age_group  Total  \n",
       "0  Female      0-14      0  \n",
       "1  Female      0-14      0  \n",
       "2  Female      0-14      0  \n",
       "3  Female      0-14      0  \n",
       "4  Female      0-14      0  "
      ]
     },
     "execution_count": 4,
     "metadata": {},
     "output_type": "execute_result"
    }
   ],
   "source": [
    "df.head()"
   ]
  },
  {
   "cell_type": "code",
   "execution_count": 9,
   "id": "f44e53bc",
   "metadata": {},
   "outputs": [
    {
     "data": {
      "text/plain": [
       "(237519, 7)"
      ]
     },
     "execution_count": 9,
     "metadata": {},
     "output_type": "execute_result"
    }
   ],
   "source": [
    "df.shape"
   ]
  },
  {
   "cell_type": "code",
   "execution_count": 10,
   "id": "f1c2579b",
   "metadata": {},
   "outputs": [],
   "source": [
    "#237519 rows \n",
    "#7 columns"
   ]
  },
  {
   "cell_type": "code",
   "execution_count": null,
   "id": "8449a09a",
   "metadata": {},
   "outputs": [],
   "source": []
  },
  {
   "cell_type": "markdown",
   "id": "85c25b4b",
   "metadata": {},
   "source": [
    "# Let us check the data info "
   ]
  },
  {
   "cell_type": "code",
   "execution_count": 6,
   "id": "b8d60526",
   "metadata": {
    "scrolled": true
   },
   "outputs": [
    {
     "name": "stdout",
     "output_type": "stream",
     "text": [
      "<class 'pandas.core.frame.DataFrame'>\n",
      "RangeIndex: 237519 entries, 0 to 237518\n",
      "Data columns (total 7 columns):\n",
      " #   Column     Non-Null Count   Dtype \n",
      "---  ------     --------------   ----- \n",
      " 0   State      237519 non-null  object\n",
      " 1   Year       237519 non-null  int64 \n",
      " 2   Type_code  237519 non-null  object\n",
      " 3   Type       237519 non-null  object\n",
      " 4   Gender     237519 non-null  object\n",
      " 5   Age_group  237519 non-null  object\n",
      " 6   Total      237519 non-null  int64 \n",
      "dtypes: int64(2), object(5)\n",
      "memory usage: 12.7+ MB\n"
     ]
    }
   ],
   "source": [
    "df.info()"
   ]
  },
  {
   "cell_type": "code",
   "execution_count": null,
   "id": "281da0ca",
   "metadata": {},
   "outputs": [],
   "source": []
  },
  {
   "cell_type": "markdown",
   "id": "69b30d7f",
   "metadata": {},
   "source": [
    "Inference:-"
   ]
  },
  {
   "cell_type": "markdown",
   "id": "baae6d32",
   "metadata": {},
   "source": [
    "1. 7 Columns are available\n",
    "2. 2 integer columns and the rest string columns"
   ]
  },
  {
   "cell_type": "code",
   "execution_count": null,
   "id": "8c2a7eb2",
   "metadata": {},
   "outputs": [],
   "source": []
  },
  {
   "cell_type": "markdown",
   "id": "7d3a7512",
   "metadata": {},
   "source": [
    "# Data Description"
   ]
  },
  {
   "cell_type": "code",
   "execution_count": 13,
   "id": "d7762a74",
   "metadata": {},
   "outputs": [
    {
     "data": {
      "text/html": [
       "<div>\n",
       "<style scoped>\n",
       "    .dataframe tbody tr th:only-of-type {\n",
       "        vertical-align: middle;\n",
       "    }\n",
       "\n",
       "    .dataframe tbody tr th {\n",
       "        vertical-align: top;\n",
       "    }\n",
       "\n",
       "    .dataframe thead th {\n",
       "        text-align: right;\n",
       "    }\n",
       "</style>\n",
       "<table border=\"1\" class=\"dataframe\">\n",
       "  <thead>\n",
       "    <tr style=\"text-align: right;\">\n",
       "      <th></th>\n",
       "      <th>Year</th>\n",
       "      <th>Total</th>\n",
       "    </tr>\n",
       "  </thead>\n",
       "  <tbody>\n",
       "    <tr>\n",
       "      <th>count</th>\n",
       "      <td>237519.000000</td>\n",
       "      <td>237519.000000</td>\n",
       "    </tr>\n",
       "    <tr>\n",
       "      <th>mean</th>\n",
       "      <td>2006.500448</td>\n",
       "      <td>55.034477</td>\n",
       "    </tr>\n",
       "    <tr>\n",
       "      <th>std</th>\n",
       "      <td>3.452240</td>\n",
       "      <td>792.749038</td>\n",
       "    </tr>\n",
       "    <tr>\n",
       "      <th>min</th>\n",
       "      <td>2001.000000</td>\n",
       "      <td>0.000000</td>\n",
       "    </tr>\n",
       "    <tr>\n",
       "      <th>25%</th>\n",
       "      <td>2004.000000</td>\n",
       "      <td>0.000000</td>\n",
       "    </tr>\n",
       "    <tr>\n",
       "      <th>50%</th>\n",
       "      <td>2007.000000</td>\n",
       "      <td>0.000000</td>\n",
       "    </tr>\n",
       "    <tr>\n",
       "      <th>75%</th>\n",
       "      <td>2010.000000</td>\n",
       "      <td>6.000000</td>\n",
       "    </tr>\n",
       "    <tr>\n",
       "      <th>max</th>\n",
       "      <td>2012.000000</td>\n",
       "      <td>63343.000000</td>\n",
       "    </tr>\n",
       "  </tbody>\n",
       "</table>\n",
       "</div>"
      ],
      "text/plain": [
       "                Year          Total\n",
       "count  237519.000000  237519.000000\n",
       "mean     2006.500448      55.034477\n",
       "std         3.452240     792.749038\n",
       "min      2001.000000       0.000000\n",
       "25%      2004.000000       0.000000\n",
       "50%      2007.000000       0.000000\n",
       "75%      2010.000000       6.000000\n",
       "max      2012.000000   63343.000000"
      ]
     },
     "execution_count": 13,
     "metadata": {},
     "output_type": "execute_result"
    }
   ],
   "source": [
    "df.describe()"
   ]
  },
  {
   "cell_type": "code",
   "execution_count": null,
   "id": "022544f2",
   "metadata": {},
   "outputs": [],
   "source": []
  },
  {
   "cell_type": "markdown",
   "id": "8e5f4003",
   "metadata": {},
   "source": [
    "Inference:-"
   ]
  },
  {
   "cell_type": "markdown",
   "id": "1c459352",
   "metadata": {},
   "source": [
    "1. Total - max looks way off than 75th percentile. - Potential strong outlier. - Outlier treatment\n",
    "2. Year inferences does not make sense. Still would keep it / use this as category"
   ]
  },
  {
   "cell_type": "code",
   "execution_count": null,
   "id": "8ab00bc6",
   "metadata": {},
   "outputs": [],
   "source": []
  },
  {
   "cell_type": "code",
   "execution_count": 18,
   "id": "daa1d525",
   "metadata": {},
   "outputs": [
    {
     "data": {
      "text/html": [
       "<div>\n",
       "<style scoped>\n",
       "    .dataframe tbody tr th:only-of-type {\n",
       "        vertical-align: middle;\n",
       "    }\n",
       "\n",
       "    .dataframe tbody tr th {\n",
       "        vertical-align: top;\n",
       "    }\n",
       "\n",
       "    .dataframe thead th {\n",
       "        text-align: right;\n",
       "    }\n",
       "</style>\n",
       "<table border=\"1\" class=\"dataframe\">\n",
       "  <thead>\n",
       "    <tr style=\"text-align: right;\">\n",
       "      <th></th>\n",
       "      <th>State</th>\n",
       "      <th>Type_code</th>\n",
       "      <th>Type</th>\n",
       "      <th>Gender</th>\n",
       "      <th>Age_group</th>\n",
       "    </tr>\n",
       "  </thead>\n",
       "  <tbody>\n",
       "    <tr>\n",
       "      <th>count</th>\n",
       "      <td>237519</td>\n",
       "      <td>237519</td>\n",
       "      <td>237519</td>\n",
       "      <td>237519</td>\n",
       "      <td>237519</td>\n",
       "    </tr>\n",
       "    <tr>\n",
       "      <th>unique</th>\n",
       "      <td>38</td>\n",
       "      <td>5</td>\n",
       "      <td>69</td>\n",
       "      <td>2</td>\n",
       "      <td>6</td>\n",
       "    </tr>\n",
       "    <tr>\n",
       "      <th>top</th>\n",
       "      <td>Madhya Pradesh</td>\n",
       "      <td>Causes</td>\n",
       "      <td>Others (Please Specify)</td>\n",
       "      <td>Male</td>\n",
       "      <td>15-29</td>\n",
       "    </tr>\n",
       "    <tr>\n",
       "      <th>freq</th>\n",
       "      <td>6792</td>\n",
       "      <td>109200</td>\n",
       "      <td>7263</td>\n",
       "      <td>118879</td>\n",
       "      <td>45223</td>\n",
       "    </tr>\n",
       "  </tbody>\n",
       "</table>\n",
       "</div>"
      ],
      "text/plain": [
       "                 State Type_code                     Type  Gender Age_group\n",
       "count           237519    237519                   237519  237519    237519\n",
       "unique              38         5                       69       2         6\n",
       "top     Madhya Pradesh    Causes  Others (Please Specify)    Male     15-29\n",
       "freq              6792    109200                     7263  118879     45223"
      ]
     },
     "execution_count": 18,
     "metadata": {},
     "output_type": "execute_result"
    }
   ],
   "source": [
    "df.describe(exclude='number')"
   ]
  },
  {
   "cell_type": "code",
   "execution_count": null,
   "id": "aa6b0362",
   "metadata": {},
   "outputs": [],
   "source": []
  },
  {
   "cell_type": "code",
   "execution_count": 19,
   "id": "9a4e1847",
   "metadata": {},
   "outputs": [
    {
     "data": {
      "text/plain": [
       "array(['Causes', 'Education_Status', 'Means_adopted',\n",
       "       'Professional_Profile', 'Social_Status'], dtype=object)"
      ]
     },
     "execution_count": 19,
     "metadata": {},
     "output_type": "execute_result"
    }
   ],
   "source": [
    "df['Type_code'].unique()"
   ]
  },
  {
   "cell_type": "code",
   "execution_count": null,
   "id": "e7de2642",
   "metadata": {},
   "outputs": [],
   "source": []
  },
  {
   "cell_type": "markdown",
   "id": "d9adf3d1",
   "metadata": {},
   "source": [
    "# Lets check if null value is present"
   ]
  },
  {
   "cell_type": "code",
   "execution_count": 14,
   "id": "e955abc5",
   "metadata": {},
   "outputs": [
    {
     "data": {
      "text/plain": [
       "State        0\n",
       "Year         0\n",
       "Type_code    0\n",
       "Type         0\n",
       "Gender       0\n",
       "Age_group    0\n",
       "Total        0\n",
       "dtype: int64"
      ]
     },
     "execution_count": 14,
     "metadata": {},
     "output_type": "execute_result"
    }
   ],
   "source": [
    "df.isnull().sum()"
   ]
  },
  {
   "cell_type": "code",
   "execution_count": null,
   "id": "a558ff36",
   "metadata": {},
   "outputs": [],
   "source": []
  },
  {
   "cell_type": "markdown",
   "id": "2fedf682",
   "metadata": {},
   "source": [
    "No null value is present "
   ]
  },
  {
   "cell_type": "code",
   "execution_count": null,
   "id": "e2560351",
   "metadata": {},
   "outputs": [],
   "source": []
  },
  {
   "cell_type": "markdown",
   "id": "fe872629",
   "metadata": {},
   "source": [
    "# Lets check we are analysing the data for which years"
   ]
  },
  {
   "cell_type": "code",
   "execution_count": 16,
   "id": "52ae613d",
   "metadata": {},
   "outputs": [
    {
     "data": {
      "text/plain": [
       "array([2001, 2002, 2003, 2004, 2005, 2006, 2007, 2008, 2009, 2010, 2011,\n",
       "       2012], dtype=int64)"
      ]
     },
     "execution_count": 16,
     "metadata": {},
     "output_type": "execute_result"
    }
   ],
   "source": [
    "df['Year'].unique()"
   ]
  },
  {
   "cell_type": "code",
   "execution_count": null,
   "id": "d763a7df",
   "metadata": {},
   "outputs": [],
   "source": []
  },
  {
   "cell_type": "markdown",
   "id": "36382bb1",
   "metadata": {},
   "source": [
    "So we are analysing the data for the years 2001 - 2012"
   ]
  },
  {
   "cell_type": "code",
   "execution_count": null,
   "id": "31cf5990",
   "metadata": {},
   "outputs": [],
   "source": []
  },
  {
   "cell_type": "markdown",
   "id": "8e19e1f8",
   "metadata": {},
   "source": [
    "# Removing the poteintial outlier"
   ]
  },
  {
   "cell_type": "code",
   "execution_count": 56,
   "id": "397d6e75",
   "metadata": {},
   "outputs": [],
   "source": [
    "u_th = df['Total'].quantile(0.99)\n",
    "l_th = df['Total'].quantile(0.01)"
   ]
  },
  {
   "cell_type": "code",
   "execution_count": 57,
   "id": "f17844ad",
   "metadata": {},
   "outputs": [],
   "source": [
    "df_filtered = df[(df['Total'] < u_th) & (df['Total'] > l_th)]"
   ]
  },
  {
   "cell_type": "code",
   "execution_count": 58,
   "id": "2b947d24",
   "metadata": {},
   "outputs": [
    {
     "name": "stdout",
     "output_type": "stream",
     "text": [
      "(237519, 7)\n",
      "(99661, 7)\n"
     ]
    }
   ],
   "source": [
    "print(df.shape)\n",
    "print(df_filtered.shape)"
   ]
  },
  {
   "cell_type": "code",
   "execution_count": 59,
   "id": "53907812",
   "metadata": {},
   "outputs": [
    {
     "data": {
      "text/plain": [
       "58.0408304177771"
      ]
     },
     "execution_count": 59,
     "metadata": {},
     "output_type": "execute_result"
    }
   ],
   "source": [
    "((df.shape[0]-df_filtered.shape[0])/ df.shape[0])*100"
   ]
  },
  {
   "cell_type": "code",
   "execution_count": null,
   "id": "b6130ebd",
   "metadata": {},
   "outputs": [],
   "source": []
  },
  {
   "cell_type": "markdown",
   "id": "8d6e7d91",
   "metadata": {},
   "source": [
    "So by doing this we will lose 58% of the rows which is a huge number number so we will work in the original data"
   ]
  },
  {
   "cell_type": "markdown",
   "id": "74ea39f8",
   "metadata": {},
   "source": [
    "# Univariate Analysis"
   ]
  },
  {
   "cell_type": "code",
   "execution_count": 60,
   "id": "eaaf912c",
   "metadata": {},
   "outputs": [
    {
     "name": "stderr",
     "output_type": "stream",
     "text": [
      "C:\\Users\\HP\\anaconda3\\lib\\site-packages\\seaborn\\distributions.py:2557: FutureWarning: `distplot` is a deprecated function and will be removed in a future version. Please adapt your code to use either `displot` (a figure-level function with similar flexibility) or `histplot` (an axes-level function for histograms).\n",
      "  warnings.warn(msg, FutureWarning)\n",
      "C:\\Users\\HP\\anaconda3\\lib\\site-packages\\seaborn\\distributions.py:2056: FutureWarning: The `axis` variable is no longer used and will be removed. Instead, assign variables directly to `x` or `y`.\n",
      "  warnings.warn(msg, FutureWarning)\n"
     ]
    },
    {
     "data": {
      "image/png": "[encoded data removed]",
      "text/plain": [
       "<Figure size 432x288 with 1 Axes>"
      ]
     },
     "metadata": {
      "needs_background": "light"
     },
     "output_type": "display_data"
    }
   ],
   "source": [
    "sns.distplot(df['Total'],rug=True)\n",
    "plt.show()"
   ]
  },
  {
   "cell_type": "code",
   "execution_count": null,
   "id": "b06e8535",
   "metadata": {},
   "outputs": [],
   "source": []
  },
  {
   "cell_type": "markdown",
   "id": "beb40694",
   "metadata": {},
   "source": [
    "Inference :-\n",
    "\n",
    "So we can see that the density is quite high on the first few values probably 0-10, specially 0\n",
    "\n",
    "There are very less number of suicides within the range of 4000\n",
    "\n",
    "The outliers can also be observed"
   ]
  },
  {
   "cell_type": "code",
   "execution_count": null,
   "id": "b1ac7971",
   "metadata": {},
   "outputs": [],
   "source": []
  },
  {
   "cell_type": "markdown",
   "id": "1c989c4d",
   "metadata": {},
   "source": [
    "# If we want to  work on the data  where the suicides are always present(i.e > 0)"
   ]
  },
  {
   "cell_type": "code",
   "execution_count": 34,
   "id": "2280de3d",
   "metadata": {},
   "outputs": [],
   "source": [
    "de=df[df['Total']!=0]"
   ]
  },
  {
   "cell_type": "code",
   "execution_count": 35,
   "id": "8ec6040f",
   "metadata": {},
   "outputs": [
    {
     "name": "stdout",
     "output_type": "stream",
     "text": [
      "(237519, 7)\n",
      "(102038, 7)\n"
     ]
    }
   ],
   "source": [
    "print(df.shape)\n",
    "print(de.shape)"
   ]
  },
  {
   "cell_type": "code",
   "execution_count": 36,
   "id": "aa924c85",
   "metadata": {},
   "outputs": [
    {
     "data": {
      "text/plain": [
       "135481"
      ]
     },
     "execution_count": 36,
     "metadata": {},
     "output_type": "execute_result"
    }
   ],
   "source": [
    "df.shape[0]-de.shape[0]"
   ]
  },
  {
   "cell_type": "code",
   "execution_count": null,
   "id": "d38c0527",
   "metadata": {},
   "outputs": [],
   "source": []
  },
  {
   "cell_type": "markdown",
   "id": "639a7bc8",
   "metadata": {},
   "source": [
    "So we have removed \"135481\" rows and now will work on the data where suicides are always more than 0"
   ]
  },
  {
   "cell_type": "code",
   "execution_count": 37,
   "id": "b8667f83",
   "metadata": {},
   "outputs": [
    {
     "data": {
      "text/plain": [
       "array([   1,    8,    6, ..., 3927, 1513, 5451], dtype=int64)"
      ]
     },
     "execution_count": 37,
     "metadata": {},
     "output_type": "execute_result"
    }
   ],
   "source": [
    "de['Total'].unique()"
   ]
  },
  {
   "cell_type": "code",
   "execution_count": null,
   "id": "083b4241",
   "metadata": {},
   "outputs": [],
   "source": []
  },
  {
   "cell_type": "code",
   "execution_count": 61,
   "id": "dc3bcd9f",
   "metadata": {},
   "outputs": [
    {
     "data": {
      "text/plain": [
       "1       16047\n",
       "2        9942\n",
       "3        6704\n",
       "4        5121\n",
       "5        4180\n",
       "        ...  \n",
       "2012        1\n",
       "1948        1\n",
       "1500        1\n",
       "1436        1\n",
       "2047        1\n",
       "Name: Total, Length: 2179, dtype: int64"
      ]
     },
     "execution_count": 61,
     "metadata": {},
     "output_type": "execute_result"
    }
   ],
   "source": [
    "de['Total'].value_counts()"
   ]
  },
  {
   "cell_type": "code",
   "execution_count": 78,
   "id": "a0626a6d",
   "metadata": {},
   "outputs": [
    {
     "data": {
      "text/plain": [
       "Index(['State', 'Year', 'Type_code', 'Type', 'Gender', 'Age_group', 'Total'], dtype='object')"
      ]
     },
     "execution_count": 78,
     "metadata": {},
     "output_type": "execute_result"
    }
   ],
   "source": [
    "de.columns"
   ]
  },
  {
   "cell_type": "code",
   "execution_count": null,
   "id": "47b78b5c",
   "metadata": {},
   "outputs": [],
   "source": []
  },
  {
   "cell_type": "markdown",
   "id": "df96c2e2",
   "metadata": {},
   "source": [
    "Now we will do analysis on the data where are total cases are always more than 0"
   ]
  },
  {
   "cell_type": "markdown",
   "id": "dcf8ad76",
   "metadata": {},
   "source": [
    "# Bivariate Analysis"
   ]
  },
  {
   "cell_type": "code",
   "execution_count": 77,
   "id": "8edc5ab7",
   "metadata": {},
   "outputs": [
    {
     "data": {
      "image/png": "[encoded data removed]",
      "text/plain": [
       "<Figure size 720x360 with 2 Axes>"
      ]
     },
     "metadata": {
      "needs_background": "light"
     },
     "output_type": "display_data"
    }
   ],
   "source": [
    "sns.relplot(data=de,x='Year',y='Total',col='Gender')\n",
    "plt.show()"
   ]
  },
  {
   "cell_type": "markdown",
   "id": "280e2cca",
   "metadata": {},
   "source": [
    "Inference :-"
   ]
  },
  {
   "cell_type": "markdown",
   "id": "9b42e607",
   "metadata": {},
   "source": [
    "We can see with the increase in year the total suicide cases is also increasing in the case of males"
   ]
  },
  {
   "cell_type": "markdown",
   "id": "7ba50e6b",
   "metadata": {},
   "source": [
    "The total cases seems more for males in some cases than that of females"
   ]
  },
  {
   "cell_type": "code",
   "execution_count": null,
   "id": "a3273dd6",
   "metadata": {},
   "outputs": [],
   "source": []
  },
  {
   "cell_type": "markdown",
   "id": "e6ec1608",
   "metadata": {},
   "source": [
    "Let us check this again using pie chart"
   ]
  },
  {
   "cell_type": "code",
   "execution_count": null,
   "id": "154f8aa5",
   "metadata": {},
   "outputs": [],
   "source": []
  },
  {
   "cell_type": "code",
   "execution_count": 76,
   "id": "d513db43",
   "metadata": {},
   "outputs": [
    {
     "data": {
      "image/png": "[encoded data removed]",
      "text/plain": [
       "<Figure size 432x288 with 1 Axes>"
      ]
     },
     "metadata": {},
     "output_type": "display_data"
    }
   ],
   "source": [
    "de.groupby('Gender').size().plot(kind='pie',autopct='%.3f')\n",
    "plt.show()"
   ]
  },
  {
   "cell_type": "markdown",
   "id": "d2760890",
   "metadata": {},
   "source": [
    "Males attempting suicides are 54.19 % which is more than that of females 45.80%"
   ]
  },
  {
   "cell_type": "code",
   "execution_count": null,
   "id": "0f154531",
   "metadata": {},
   "outputs": [],
   "source": []
  },
  {
   "cell_type": "markdown",
   "id": "e1d05c0d",
   "metadata": {},
   "source": [
    "# Some more analysis"
   ]
  },
  {
   "cell_type": "code",
   "execution_count": 86,
   "id": "48335705",
   "metadata": {},
   "outputs": [
    {
     "data": {
      "image/png": "[encoded data removed]",
      "text/plain": [
       "<Figure size 432x288 with 1 Axes>"
      ]
     },
     "metadata": {
      "needs_background": "light"
     },
     "output_type": "display_data"
    },
    {
     "data": {
      "text/plain": [
       "<Figure size 14400x14400 with 0 Axes>"
      ]
     },
     "metadata": {},
     "output_type": "display_data"
    }
   ],
   "source": [
    "sns.violinplot(y=de['Total'],x=de['Gender'])\n",
    "plt.figure(figsize=(200,200))\n",
    "plt.show()"
   ]
  },
  {
   "cell_type": "code",
   "execution_count": null,
   "id": "23f7b429",
   "metadata": {},
   "outputs": [],
   "source": []
  },
  {
   "cell_type": "markdown",
   "id": "c1275ffb",
   "metadata": {},
   "source": [
    "Inference :-"
   ]
  },
  {
   "cell_type": "markdown",
   "id": "77481cbe",
   "metadata": {},
   "source": [
    "We can see a huge concentration of data for females near the value 1 so that means the total number of less suicide case is for womans although we can see a potential outlier as well"
   ]
  },
  {
   "cell_type": "markdown",
   "id": "30d83f0a",
   "metadata": {},
   "source": [
    "There is a huge potential outlier in the case of males"
   ]
  },
  {
   "cell_type": "code",
   "execution_count": null,
   "id": "91f2f297",
   "metadata": {},
   "outputs": [],
   "source": []
  },
  {
   "cell_type": "markdown",
   "id": "f6195e2a",
   "metadata": {},
   "source": [
    "# Let us check the correlation between year and total suicide cases"
   ]
  },
  {
   "cell_type": "code",
   "execution_count": null,
   "id": "24fe319f",
   "metadata": {},
   "outputs": [],
   "source": []
  },
  {
   "cell_type": "code",
   "execution_count": 111,
   "id": "7ab0b7ff",
   "metadata": {},
   "outputs": [
    {
     "data": {
      "text/html": [
       "<div>\n",
       "<style scoped>\n",
       "    .dataframe tbody tr th:only-of-type {\n",
       "        vertical-align: middle;\n",
       "    }\n",
       "\n",
       "    .dataframe tbody tr th {\n",
       "        vertical-align: top;\n",
       "    }\n",
       "\n",
       "    .dataframe thead th {\n",
       "        text-align: right;\n",
       "    }\n",
       "</style>\n",
       "<table border=\"1\" class=\"dataframe\">\n",
       "  <thead>\n",
       "    <tr style=\"text-align: right;\">\n",
       "      <th></th>\n",
       "      <th>Year</th>\n",
       "      <th>Total</th>\n",
       "    </tr>\n",
       "  </thead>\n",
       "  <tbody>\n",
       "    <tr>\n",
       "      <th>Year</th>\n",
       "      <td>1.000000</td>\n",
       "      <td>0.005231</td>\n",
       "    </tr>\n",
       "    <tr>\n",
       "      <th>Total</th>\n",
       "      <td>0.005231</td>\n",
       "      <td>1.000000</td>\n",
       "    </tr>\n",
       "  </tbody>\n",
       "</table>\n",
       "</div>"
      ],
      "text/plain": [
       "           Year     Total\n",
       "Year   1.000000  0.005231\n",
       "Total  0.005231  1.000000"
      ]
     },
     "execution_count": 111,
     "metadata": {},
     "output_type": "execute_result"
    }
   ],
   "source": [
    "df.corr()"
   ]
  },
  {
   "cell_type": "code",
   "execution_count": null,
   "id": "c5264060",
   "metadata": {},
   "outputs": [],
   "source": []
  },
  {
   "cell_type": "code",
   "execution_count": 112,
   "id": "80d201e7",
   "metadata": {},
   "outputs": [
    {
     "data": {
      "image/png": "[encoded data removed]",
      "text/plain": [
       "<Figure size 432x288 with 2 Axes>"
      ]
     },
     "metadata": {
      "needs_background": "light"
     },
     "output_type": "display_data"
    }
   ],
   "source": [
    "sns.heatmap(df.corr(),annot=True,linewidth=2)\n",
    "plt.show()"
   ]
  },
  {
   "cell_type": "code",
   "execution_count": null,
   "id": "bb20c26a",
   "metadata": {},
   "outputs": [],
   "source": []
  },
  {
   "cell_type": "markdown",
   "id": "4a45bfb0",
   "metadata": {},
   "source": [
    "There is a slight positive correlation between total cases and the increase in year"
   ]
  },
  {
   "cell_type": "markdown",
   "id": "3aa4314d",
   "metadata": {},
   "source": [
    "So with the increase in year the cases has increased"
   ]
  },
  {
   "cell_type": "markdown",
   "id": "3dd3718c",
   "metadata": {},
   "source": [
    "# Lets solve some analytical questions for the betterment of the analysis"
   ]
  },
  {
   "cell_type": "markdown",
   "id": "085bceda",
   "metadata": {},
   "source": []
  },
  {
   "cell_type": "code",
   "execution_count": 87,
   "id": "db102d47",
   "metadata": {},
   "outputs": [
    {
     "data": {
      "text/plain": [
       "Index(['State', 'Year', 'Type_code', 'Type', 'Gender', 'Age_group', 'Total'], dtype='object')"
      ]
     },
     "execution_count": 87,
     "metadata": {},
     "output_type": "execute_result"
    }
   ],
   "source": [
    "de.columns"
   ]
  },
  {
   "cell_type": "code",
   "execution_count": null,
   "id": "ec454f47",
   "metadata": {},
   "outputs": [],
   "source": []
  },
  {
   "cell_type": "markdown",
   "id": "5939284b",
   "metadata": {},
   "source": [
    "# Which is the type of reason for the maximum number of suicides(Top 5)"
   ]
  },
  {
   "cell_type": "code",
   "execution_count": 90,
   "id": "cd48e3fc",
   "metadata": {},
   "outputs": [
    {
     "data": {
      "text/plain": [
       "69"
      ]
     },
     "execution_count": 90,
     "metadata": {},
     "output_type": "execute_result"
    }
   ],
   "source": [
    "de['Type'].nunique()"
   ]
  },
  {
   "cell_type": "code",
   "execution_count": 94,
   "id": "a76c8983",
   "metadata": {},
   "outputs": [
    {
     "data": {
      "text/plain": [
       "Type\n",
       "Married          3065322\n",
       "Primary          1088481\n",
       "Middle           1028913\n",
       "No Education      965271\n",
       "Never Married     954903\n",
       "Name: Total, dtype: int64"
      ]
     },
     "execution_count": 94,
     "metadata": {},
     "output_type": "execute_result"
    }
   ],
   "source": [
    "de.groupby('Type')['Total'].sum().sort_values(ascending=False).head()"
   ]
  },
  {
   "cell_type": "code",
   "execution_count": 93,
   "id": "339c3811",
   "metadata": {},
   "outputs": [
    {
     "data": {
      "text/plain": [
       "<AxesSubplot:xlabel='Type'>"
      ]
     },
     "execution_count": 93,
     "metadata": {},
     "output_type": "execute_result"
    },
    {
     "data": {
      "image/png": "[encoded data removed]",
      "text/plain": [
       "<Figure size 1080x576 with 1 Axes>"
      ]
     },
     "metadata": {
      "needs_background": "light"
     },
     "output_type": "display_data"
    }
   ],
   "source": [
    "de.groupby('Type')['Total'].sum().sort_values(ascending=False).head().plot.bar(figsize=(15,8))"
   ]
  },
  {
   "cell_type": "markdown",
   "id": "0b550f1a",
   "metadata": {},
   "source": [
    "***Inference*** :-\n",
    "\n",
    "Maximum people are attempting suicides because of their marriage"
   ]
  },
  {
   "cell_type": "code",
   "execution_count": null,
   "id": "877f30a6",
   "metadata": {},
   "outputs": [],
   "source": []
  },
  {
   "cell_type": "markdown",
   "id": "480fdea8",
   "metadata": {},
   "source": [
    "# In which state we are seeing the maximum number of suicides(Top 7)"
   ]
  },
  {
   "cell_type": "code",
   "execution_count": 95,
   "id": "09d5cee8",
   "metadata": {},
   "outputs": [
    {
     "data": {
      "text/plain": [
       "Index(['State', 'Year', 'Type_code', 'Type', 'Gender', 'Age_group', 'Total'], dtype='object')"
      ]
     },
     "execution_count": 95,
     "metadata": {},
     "output_type": "execute_result"
    }
   ],
   "source": [
    "de.columns"
   ]
  },
  {
   "cell_type": "code",
   "execution_count": 97,
   "id": "5c7018e8",
   "metadata": {},
   "outputs": [
    {
     "data": {
      "text/plain": [
       "State\n",
       "Total (All India)    2911862\n",
       "Total (States)       2858026\n",
       "Maharashtra           901945\n",
       "West Bengal           849936\n",
       "Tamil Nadu            818691\n",
       "Andhra Pradesh        814059\n",
       "Karnataka             734825\n",
       "Kerala                538946\n",
       "Madhya Pradesh        451535\n",
       "Name: Total, dtype: int64"
      ]
     },
     "execution_count": 97,
     "metadata": {},
     "output_type": "execute_result"
    }
   ],
   "source": [
    "de.groupby('State')['Total'].sum().sort_values(ascending=False).head(9)"
   ]
  },
  {
   "cell_type": "code",
   "execution_count": 103,
   "id": "0dd6a0a5",
   "metadata": {},
   "outputs": [],
   "source": [
    "dg=de[(de['State']!='Total (All India)')&(de['State']!='Total (States)')]"
   ]
  },
  {
   "cell_type": "code",
   "execution_count": 105,
   "id": "48465f9b",
   "metadata": {},
   "outputs": [
    {
     "data": {
      "image/png": "[encoded data removed]",
      "text/plain": [
       "<Figure size 1080x576 with 1 Axes>"
      ]
     },
     "metadata": {
      "needs_background": "light"
     },
     "output_type": "display_data"
    }
   ],
   "source": [
    "dg.groupby('State')['Total'].sum().sort_values(ascending=False).head(7).plot.bar(figsize=(15,8))\n",
    "plt.show()"
   ]
  },
  {
   "cell_type": "code",
   "execution_count": null,
   "id": "df0d8ebe",
   "metadata": {},
   "outputs": [],
   "source": []
  },
  {
   "cell_type": "markdown",
   "id": "a7db0450",
   "metadata": {},
   "source": [
    "So in Maharashtra we are seeing the maximum number of suicides followed by West Bengal, Tamil Nadu and so on"
   ]
  },
  {
   "cell_type": "code",
   "execution_count": null,
   "id": "60050014",
   "metadata": {},
   "outputs": [],
   "source": []
  },
  {
   "cell_type": "markdown",
   "id": "e40311ab",
   "metadata": {},
   "source": [
    "# In which state we are seeing the minimum number of suicides(Top 6)"
   ]
  },
  {
   "cell_type": "code",
   "execution_count": 108,
   "id": "03338dd7",
   "metadata": {},
   "outputs": [
    {
     "data": {
      "text/plain": [
       "State\n",
       "Lakshadweep       50\n",
       "Daman & Diu     1391\n",
       "Nagaland        1728\n",
       "Manipur         2102\n",
       "D & N Haveli    3430\n",
       "Mizoram         4154\n",
       "Name: Total, dtype: int64"
      ]
     },
     "execution_count": 108,
     "metadata": {},
     "output_type": "execute_result"
    }
   ],
   "source": [
    "de.groupby('State')['Total'].sum().sort_values().head(6)"
   ]
  },
  {
   "cell_type": "code",
   "execution_count": 107,
   "id": "567a605d",
   "metadata": {},
   "outputs": [
    {
     "data": {
      "text/plain": [
       "<AxesSubplot:xlabel='State'>"
      ]
     },
     "execution_count": 107,
     "metadata": {},
     "output_type": "execute_result"
    },
    {
     "data": {
      "image/png": "[encoded data removed]",
      "text/plain": [
       "<Figure size 1080x576 with 1 Axes>"
      ]
     },
     "metadata": {
      "needs_background": "light"
     },
     "output_type": "display_data"
    }
   ],
   "source": [
    "de.groupby('State')['Total'].sum().sort_values().head(6).plot.bar(figsize=(15,8))"
   ]
  },
  {
   "cell_type": "markdown",
   "id": "b54ac121",
   "metadata": {},
   "source": [
    "So in Lakshwadeep we are seeing the minimum number of suicides followed by Daman & Diu , Nagaland and so on"
   ]
  },
  {
   "cell_type": "code",
   "execution_count": null,
   "id": "36f3e581",
   "metadata": {},
   "outputs": [],
   "source": []
  },
  {
   "cell_type": "code",
   "execution_count": null,
   "id": "e5a05900",
   "metadata": {},
   "outputs": [],
   "source": []
  },
  {
   "cell_type": "markdown",
   "id": "02140948",
   "metadata": {},
   "source": [
    "# Which is the main 'type' of suicide in  Meghalaya"
   ]
  },
  {
   "cell_type": "code",
   "execution_count": 113,
   "id": "6631196f",
   "metadata": {},
   "outputs": [],
   "source": [
    "dm=de[de['State']=='Meghalaya']"
   ]
  },
  {
   "cell_type": "code",
   "execution_count": 115,
   "id": "bd77b246",
   "metadata": {},
   "outputs": [
    {
     "data": {
      "text/plain": [
       "(1180, 7)"
      ]
     },
     "execution_count": 115,
     "metadata": {},
     "output_type": "execute_result"
    }
   ],
   "source": [
    "dm.shape"
   ]
  },
  {
   "cell_type": "code",
   "execution_count": 118,
   "id": "2d97f587",
   "metadata": {},
   "outputs": [
    {
     "data": {
      "text/plain": [
       "Type\n",
       "By Hanging    735\n",
       "Name: Total, dtype: int64"
      ]
     },
     "execution_count": 118,
     "metadata": {},
     "output_type": "execute_result"
    }
   ],
   "source": [
    "dm.groupby('Type')['Total'].sum().sort_values(ascending=False).head(1)"
   ]
  },
  {
   "cell_type": "code",
   "execution_count": null,
   "id": "871717b4",
   "metadata": {},
   "outputs": [],
   "source": []
  },
  {
   "cell_type": "markdown",
   "id": "735948d4",
   "metadata": {},
   "source": [
    "***Inference***"
   ]
  },
  {
   "cell_type": "markdown",
   "id": "ac0fa406",
   "metadata": {},
   "source": [
    "By Hanging most of the people cause suicide in Meghalaya"
   ]
  },
  {
   "cell_type": "code",
   "execution_count": null,
   "id": "e38cd125",
   "metadata": {},
   "outputs": [],
   "source": []
  },
  {
   "cell_type": "markdown",
   "id": "3e59b73d",
   "metadata": {},
   "source": [
    "# Showing the variation of all 'types' of suicides from out data"
   ]
  },
  {
   "cell_type": "code",
   "execution_count": 121,
   "id": "29df3172",
   "metadata": {},
   "outputs": [
    {
     "name": "stderr",
     "output_type": "stream",
     "text": [
      "C:\\Users\\HP\\anaconda3\\lib\\site-packages\\seaborn\\_decorators.py:36: FutureWarning: Pass the following variable as a keyword arg: x. From version 0.12, the only valid positional argument will be `data`, and passing other arguments without an explicit keyword will result in an error or misinterpretation.\n",
      "  warnings.warn(\n"
     ]
    },
    {
     "data": {
      "text/plain": [
       "(array([ 0,  1,  2,  3,  4,  5,  6,  7,  8,  9, 10, 11, 12, 13, 14, 15, 16,\n",
       "        17, 18, 19, 20, 21, 22, 23, 24, 25, 26, 27, 28, 29, 30, 31, 32, 33,\n",
       "        34, 35, 36, 37, 38, 39, 40, 41, 42, 43, 44, 45, 46, 47, 48, 49, 50,\n",
       "        51, 52, 53, 54, 55, 56, 57, 58, 59, 60, 61, 62, 63, 64, 65, 66, 67,\n",
       "        68]),\n",
       " [Text(0, 0, 'Love Affairs'),\n",
       "  Text(1, 0, 'Other Causes (Please Specity)'),\n",
       "  Text(2, 0, 'Other Prolonged Illness'),\n",
       "  Text(3, 0, 'Failure in Examination'),\n",
       "  Text(4, 0, 'Causes Not known'),\n",
       "  Text(5, 0, 'Family Problems'),\n",
       "  Text(6, 0, 'Insanity/Mental Illness'),\n",
       "  Text(7, 0, 'Death of Dear Person'),\n",
       "  Text(8, 0, 'No Education'),\n",
       "  Text(9, 0, 'Middle'),\n",
       "  Text(10, 0, 'Primary'),\n",
       "  Text(11, 0, 'Matriculate/Secondary'),\n",
       "  Text(12, 0, 'Graduate'),\n",
       "  Text(13, 0, 'Hr. Secondary/Intermediate/Pre-Universit'),\n",
       "  Text(14, 0, 'By Hanging'),\n",
       "  Text(15, 0, 'By Fire/Self Immolation'),\n",
       "  Text(16, 0, 'By Consuming Other Poison'),\n",
       "  Text(17, 0, 'By Drowning'),\n",
       "  Text(18, 0, 'Student'),\n",
       "  Text(19, 0, 'Others (Please Specify)'),\n",
       "  Text(20, 0, 'House Wife'),\n",
       "  Text(21, 0, 'Service (Private)'),\n",
       "  Text(22, 0, 'Public Sector Undertaking'),\n",
       "  Text(23, 0, 'Service (Government)'),\n",
       "  Text(24, 0, 'Farming/Agriculture Activity'),\n",
       "  Text(25, 0, 'Retired Person'),\n",
       "  Text(26, 0, 'Married'),\n",
       "  Text(27, 0, 'Never Married'),\n",
       "  Text(28, 0, 'Unemployment'),\n",
       "  Text(29, 0, 'Post Graduate and Above'),\n",
       "  Text(30, 0, 'Self-employed (Business activity)'),\n",
       "  Text(31, 0, 'Fall in Social Reputation'),\n",
       "  Text(32, 0, 'Suspected/Illicit Relation'),\n",
       "  Text(33, 0, 'Cancellation/Non-Settlement of Marriage'),\n",
       "  Text(34, 0, 'Not having Children(Barrenness/Impotency'),\n",
       "  Text(35, 0, 'Poverty'),\n",
       "  Text(36, 0, 'By Consuming Insecticides'),\n",
       "  Text(37, 0, 'By Other means (please specify)'),\n",
       "  Text(38, 0, 'Unemployed'),\n",
       "  Text(39, 0, 'Professional/Career Problem'),\n",
       "  Text(40, 0, 'Paralysis'),\n",
       "  Text(41, 0, 'Bankruptcy or Sudden change in Economic'),\n",
       "  Text(42, 0, 'Divorce'),\n",
       "  Text(43, 0, 'Cancer'),\n",
       "  Text(44, 0, 'Property Dispute'),\n",
       "  Text(45, 0, 'By touching electric wires'),\n",
       "  Text(46, 0, 'Professional Activity'),\n",
       "  Text(47, 0, 'Divorcee'),\n",
       "  Text(48, 0, 'Widowed/Widower'),\n",
       "  Text(49, 0, 'Seperated'),\n",
       "  Text(50, 0, 'Diploma'),\n",
       "  Text(51, 0, 'By Fire-Arms'),\n",
       "  Text(52, 0, 'By Overdose of sleeping pills'),\n",
       "  Text(53, 0, 'Illness (Aids/STD)'),\n",
       "  Text(54, 0, 'Physical Abuse (Rape/Incest Etc.)'),\n",
       "  Text(55, 0, 'Drug Abuse/Addiction'),\n",
       "  Text(56, 0, 'Ideological Causes/Hero Worshipping'),\n",
       "  Text(57, 0, 'Dowry Dispute'),\n",
       "  Text(58, 0, 'Illegitimate Pregnancy'),\n",
       "  Text(59, 0, 'By coming under running vehicles/trains'),\n",
       "  Text(60, 0, 'By Jumping off Moving Vehicles/Trains'),\n",
       "  Text(61, 0, 'By Jumping from (Other sites)'),\n",
       "  Text(62, 0, 'By Over Alcoholism'),\n",
       "  Text(63, 0, 'By Jumping from (Building)'),\n",
       "  Text(64, 0, 'By Self Infliction of injury'),\n",
       "  Text(65, 0, 'By Machine'),\n",
       "  Text(66, 0, 'Bankruptcy or Sudden change in Economic Status'),\n",
       "  Text(67, 0, 'Not having Children (Barrenness/Impotency'),\n",
       "  Text(68, 0, 'By Other means')])"
      ]
     },
     "execution_count": 121,
     "metadata": {},
     "output_type": "execute_result"
    },
    {
     "data": {
      "image/png": "[encoded data removed]",
      "text/plain": [
       "<Figure size 1080x576 with 1 Axes>"
      ]
     },
     "metadata": {
      "needs_background": "light"
     },
     "output_type": "display_data"
    }
   ],
   "source": [
    "plt.figure(figsize=(15,8))\n",
    "sns.countplot(de['Type'])\n",
    "plt.xticks(rotation = 90)"
   ]
  },
  {
   "cell_type": "code",
   "execution_count": null,
   "id": "da47deba",
   "metadata": {},
   "outputs": [],
   "source": []
  },
  {
   "cell_type": "markdown",
   "id": "9b2f03b2",
   "metadata": {},
   "source": [
    "# In which state maximum prople commited suicide due to love affairs"
   ]
  },
  {
   "cell_type": "code",
   "execution_count": 162,
   "id": "7a0fc4f9",
   "metadata": {},
   "outputs": [],
   "source": [
    "ds=de[de['Type']=='Love Affairs']"
   ]
  },
  {
   "cell_type": "code",
   "execution_count": 163,
   "id": "2ae330fd",
   "metadata": {},
   "outputs": [
    {
     "data": {
      "text/plain": [
       "State\n",
       "West Bengal       9606\n",
       "Tamil Nadu        5684\n",
       "Assam             4852\n",
       "Andhra Pradesh    3325\n",
       "Maharashtra       2872\n",
       "Name: Total, dtype: int64"
      ]
     },
     "execution_count": 163,
     "metadata": {},
     "output_type": "execute_result"
    }
   ],
   "source": [
    "ds.groupby('State')['Total'].sum().sort_values(ascending=False).head()"
   ]
  },
  {
   "cell_type": "code",
   "execution_count": 164,
   "id": "fdd12548",
   "metadata": {},
   "outputs": [
    {
     "data": {
      "text/plain": [
       "<AxesSubplot:xlabel='State'>"
      ]
     },
     "execution_count": 164,
     "metadata": {},
     "output_type": "execute_result"
    },
    {
     "data": {
      "image/png": "[encoded data removed]",
      "text/plain": [
       "<Figure size 432x288 with 1 Axes>"
      ]
     },
     "metadata": {
      "needs_background": "light"
     },
     "output_type": "display_data"
    }
   ],
   "source": [
    "ds.groupby('State')['Total'].sum().sort_values(ascending=False).head().plot.bar()"
   ]
  },
  {
   "cell_type": "markdown",
   "id": "f36e54a6",
   "metadata": {},
   "source": [
    "***Inference*** "
   ]
  },
  {
   "cell_type": "markdown",
   "id": "5b05f041",
   "metadata": {},
   "source": [
    "Maximum people who are dying due to love affairs are in West Bengal followed up by Tamil Nadu, Assam and so on"
   ]
  },
  {
   "cell_type": "code",
   "execution_count": null,
   "id": "90fba646",
   "metadata": {},
   "outputs": [],
   "source": []
  },
  {
   "cell_type": "markdown",
   "id": "a5ad6a3d",
   "metadata": {},
   "source": [
    "# In which state maximum people are doing suicide due to Drug Abuse/Addiction"
   ]
  },
  {
   "cell_type": "code",
   "execution_count": 156,
   "id": "f142e35d",
   "metadata": {},
   "outputs": [],
   "source": [
    "ds=de[de['Type']=='Drug Abuse/Addiction']"
   ]
  },
  {
   "cell_type": "code",
   "execution_count": 160,
   "id": "b03740ef",
   "metadata": {},
   "outputs": [
    {
     "data": {
      "text/plain": [
       "State\n",
       "Maharashtra       12671\n",
       "Madhya Pradesh     3031\n",
       "Kerala             2113\n",
       "Tamil Nadu         1952\n",
       "Chhattisgarh       1695\n",
       "Name: Total, dtype: int64"
      ]
     },
     "execution_count": 160,
     "metadata": {},
     "output_type": "execute_result"
    }
   ],
   "source": [
    "ds.groupby('State')['Total'].sum().sort_values(ascending=False).head()"
   ]
  },
  {
   "cell_type": "code",
   "execution_count": 161,
   "id": "3f3ed844",
   "metadata": {},
   "outputs": [
    {
     "data": {
      "image/png": "[encoded data removed]",
      "text/plain": [
       "<Figure size 432x288 with 1 Axes>"
      ]
     },
     "metadata": {
      "needs_background": "light"
     },
     "output_type": "display_data"
    }
   ],
   "source": [
    "ds.groupby('State')['Total'].sum().sort_values(ascending=False).head().plot.bar()\n",
    "plt.show()"
   ]
  },
  {
   "cell_type": "markdown",
   "id": "d2e31249",
   "metadata": {},
   "source": [
    "***Inference***"
   ]
  },
  {
   "cell_type": "markdown",
   "id": "4e4a4232",
   "metadata": {},
   "source": [
    "Maximum people who are dying due to Drug Abuse/Addiction are from Maharashtra,Madhya Pradesh,Kerela and so on"
   ]
  },
  {
   "cell_type": "code",
   "execution_count": null,
   "id": "655eb54b",
   "metadata": {},
   "outputs": [],
   "source": []
  },
  {
   "cell_type": "markdown",
   "id": "d79e64d6",
   "metadata": {},
   "source": [
    "# Which age Category other than '0-100' is having more suicides in the year 2002"
   ]
  },
  {
   "cell_type": "code",
   "execution_count": 170,
   "id": "eab07920",
   "metadata": {},
   "outputs": [
    {
     "data": {
      "text/plain": [
       "array(['0-14', '15-29', '30-44', '45-59', '60+', '0-100+'], dtype=object)"
      ]
     },
     "execution_count": 170,
     "metadata": {},
     "output_type": "execute_result"
    }
   ],
   "source": [
    "de['Age_group'].unique()"
   ]
  },
  {
   "cell_type": "code",
   "execution_count": 171,
   "id": "e1080b97",
   "metadata": {},
   "outputs": [],
   "source": [
    "dr=de[de['Age_group']!='0-100+']"
   ]
  },
  {
   "cell_type": "code",
   "execution_count": 172,
   "id": "73b8002a",
   "metadata": {},
   "outputs": [],
   "source": [
    "dr=dr[dr['Year']==2002]"
   ]
  },
  {
   "cell_type": "code",
   "execution_count": null,
   "id": "1383c77f",
   "metadata": {},
   "outputs": [],
   "source": []
  },
  {
   "cell_type": "code",
   "execution_count": 173,
   "id": "f66ae627",
   "metadata": {},
   "outputs": [
    {
     "data": {
      "text/plain": [
       "Age_group\n",
       "15-29    117864\n",
       "30-44    112529\n",
       "45-59     65482\n",
       "60+       26639\n",
       "0-14       8632\n",
       "Name: Total, dtype: int64"
      ]
     },
     "execution_count": 173,
     "metadata": {},
     "output_type": "execute_result"
    }
   ],
   "source": [
    "dr.groupby('Age_group')['Total'].sum().sort_values(ascending=False).head()"
   ]
  },
  {
   "cell_type": "code",
   "execution_count": 174,
   "id": "21b7cb3f",
   "metadata": {},
   "outputs": [
    {
     "data": {
      "text/plain": [
       "<AxesSubplot:xlabel='Age_group'>"
      ]
     },
     "execution_count": 174,
     "metadata": {},
     "output_type": "execute_result"
    },
    {
     "data": {
      "image/png": "[encoded data removed]",
      "text/plain": [
       "<Figure size 432x288 with 1 Axes>"
      ]
     },
     "metadata": {
      "needs_background": "light"
     },
     "output_type": "display_data"
    }
   ],
   "source": [
    "dr.groupby('Age_group')['Total'].sum().sort_values(ascending=False).head().plot.bar()"
   ]
  },
  {
   "cell_type": "markdown",
   "id": "fd5ce8a3",
   "metadata": {},
   "source": [
    "***Inference*** -->"
   ]
  },
  {
   "cell_type": "markdown",
   "id": "bcdc6df7",
   "metadata": {},
   "source": [
    "The age group 15-29 is making the most number of suicide cases in the year 2002"
   ]
  },
  {
   "cell_type": "code",
   "execution_count": null,
   "id": "279d8510",
   "metadata": {},
   "outputs": [],
   "source": []
  },
  {
   "cell_type": "code",
   "execution_count": null,
   "id": "3f3c299f",
   "metadata": {},
   "outputs": [],
   "source": []
  },
  {
   "cell_type": "code",
   "execution_count": null,
   "id": "b142551f",
   "metadata": {},
   "outputs": [],
   "source": []
  },
  {
   "cell_type": "markdown",
   "id": "a9c96dd2",
   "metadata": {},
   "source": [
    "*** Like this we can built our own various types of questions and can be solved easily with the help of numpy,pandas and seaborn ***"
   ]
  },
  {
   "cell_type": "markdown",
   "id": "24343b96",
   "metadata": {},
   "source": [
    "                                                 # Happy Learning"
   ]
  }
 ],
 "metadata": {
  "kernelspec": {
   "display_name": "Python 3",
   "language": "python",
   "name": "python3"
  },
  "language_info": {
   "codemirror_mode": {
    "name": "ipython",
    "version": 3
   },
   "file_extension": ".py",
   "mimetype": "text/x-python",
   "name": "python",
   "nbconvert_exporter": "python",
   "pygments_lexer": "ipython3",
   "version": "3.8.8"
  }
 },
 "nbformat": 4,
 "nbformat_minor": 5
}
